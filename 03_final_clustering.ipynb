{
 "cells": [
  {
   "cell_type": "code",
   "execution_count": null,
   "metadata": {
    "id": "X0dDyOnbzIxr"
   },
   "outputs": [],
   "source": [
    "#%config Completer.use_jedi = False"
   ]
  },
  {
   "cell_type": "code",
   "execution_count": null,
   "metadata": {
    "id": "A3NlZoWlzIx0"
   },
   "outputs": [],
   "source": [
    "import pandas as pd\n",
    "import numpy as np"
   ]
  },
  {
   "cell_type": "markdown",
   "metadata": {
    "id": "EijJS1m6zIx2"
   },
   "source": [
    "###### Loading   and exploring data, spanish is the original language of dataset"
   ]
  },
  {
   "cell_type": "code",
   "execution_count": null,
   "metadata": {
    "id": "sOxzPUa1zIx6"
   },
   "outputs": [],
   "source": [
    "properties = pd.read_excel('outputs/propiedades_pasto_11_05_21_3.xlsx',engine='openpyxl', index_col=0)"
   ]
  },
  {
   "cell_type": "code",
   "execution_count": null,
   "metadata": {
    "id": "d1X5taejzIx8",
    "outputId": "c2047e94-4278-4728-9a8f-954248d15148"
   },
   "outputs": [
    {
     "data": {
      "text/html": [
       "<div>\n",
       "<style scoped>\n",
       "    .dataframe tbody tr th:only-of-type {\n",
       "        vertical-align: middle;\n",
       "    }\n",
       "\n",
       "    .dataframe tbody tr th {\n",
       "        vertical-align: top;\n",
       "    }\n",
       "\n",
       "    .dataframe thead th {\n",
       "        text-align: right;\n",
       "    }\n",
       "</style>\n",
       "<table border=\"1\" class=\"dataframe\">\n",
       "  <thead>\n",
       "    <tr style=\"text-align: right;\">\n",
       "      <th></th>\n",
       "      <th>url</th>\n",
       "      <th>coordinates</th>\n",
       "      <th>v_coordinate_x</th>\n",
       "      <th>v_coordinate_y</th>\n",
       "      <th>type</th>\n",
       "      <th>v_type</th>\n",
       "      <th>price</th>\n",
       "      <th>v_price</th>\n",
       "      <th>size</th>\n",
       "      <th>v_size</th>\n",
       "      <th>v_rooms</th>\n",
       "      <th>v_baths</th>\n",
       "      <th>description</th>\n",
       "    </tr>\n",
       "  </thead>\n",
       "  <tbody>\n",
       "    <tr>\n",
       "      <th>0</th>\n",
       "      <td>https://www.properati.com.co/detalle/2a2oj_ven...</td>\n",
       "      <td>['1.205884', '-77.285787']</td>\n",
       "      <td>1.205884</td>\n",
       "      <td>-77.285787</td>\n",
       "      <td>Apartamento en venta en Pasto</td>\n",
       "      <td>Apartamento</td>\n",
       "      <td>$ 145.000.000</td>\n",
       "      <td>145000000.0</td>\n",
       "      <td>93 m²</td>\n",
       "      <td>93.0</td>\n",
       "      <td>3.0</td>\n",
       "      <td>2.0</td>\n",
       "      <td>&lt;div&gt;&lt;b&gt;vendo apartamento balcones de la prade...</td>\n",
       "    </tr>\n",
       "    <tr>\n",
       "      <th>1</th>\n",
       "      <td>https://www.properati.com.co/detalle/29wn6_ven...</td>\n",
       "      <td>['1.205884', '-77.285787']</td>\n",
       "      <td>1.205884</td>\n",
       "      <td>-77.285787</td>\n",
       "      <td>Casa en venta en Pasto</td>\n",
       "      <td>Casa</td>\n",
       "      <td>$ 460.000.000</td>\n",
       "      <td>460000000.0</td>\n",
       "      <td>813 m²</td>\n",
       "      <td>813.0</td>\n",
       "      <td>5.0</td>\n",
       "      <td>3.0</td>\n",
       "      <td>&lt;div&gt;&lt;b&gt;vendo casa centro de pasto&lt;/b&gt;&lt;br&gt;&lt;br&gt;...</td>\n",
       "    </tr>\n",
       "    <tr>\n",
       "      <th>2</th>\n",
       "      <td>https://www.properati.com.co/detalle/2avck_ven...</td>\n",
       "      <td>['1.205884', '-77.285787']</td>\n",
       "      <td>1.205884</td>\n",
       "      <td>-77.285787</td>\n",
       "      <td>Flat en venta en Pasto</td>\n",
       "      <td>Flat</td>\n",
       "      <td>$ 560.000.000</td>\n",
       "      <td>560000000.0</td>\n",
       "      <td>170 m²</td>\n",
       "      <td>170.0</td>\n",
       "      <td>3.0</td>\n",
       "      <td>3.0</td>\n",
       "      <td>&lt;div&gt;&lt;b&gt;Vendo apartamento sector Unicentro Pas...</td>\n",
       "    </tr>\n",
       "    <tr>\n",
       "      <th>3</th>\n",
       "      <td>https://www.properati.com.co/detalle/2bjej_ven...</td>\n",
       "      <td>['1.212983', '-77.280906']</td>\n",
       "      <td>1.212983</td>\n",
       "      <td>-77.280906</td>\n",
       "      <td>Apartamento en venta en Pasto</td>\n",
       "      <td>Apartamento</td>\n",
       "      <td>$ 275.000.000</td>\n",
       "      <td>275000000.0</td>\n",
       "      <td>72 m²</td>\n",
       "      <td>72.0</td>\n",
       "      <td>3.0</td>\n",
       "      <td>2.0</td>\n",
       "      <td>&lt;div&gt;&lt;b&gt;vendo apartamento central 72 mts&lt;/b&gt;&lt;b...</td>\n",
       "    </tr>\n",
       "  </tbody>\n",
       "</table>\n",
       "</div>"
      ],
      "text/plain": [
       "                                                 url  \\\n",
       "0  https://www.properati.com.co/detalle/2a2oj_ven...   \n",
       "1  https://www.properati.com.co/detalle/29wn6_ven...   \n",
       "2  https://www.properati.com.co/detalle/2avck_ven...   \n",
       "3  https://www.properati.com.co/detalle/2bjej_ven...   \n",
       "\n",
       "                  coordinates  v_coordinate_x  v_coordinate_y  \\\n",
       "0  ['1.205884', '-77.285787']        1.205884      -77.285787   \n",
       "1  ['1.205884', '-77.285787']        1.205884      -77.285787   \n",
       "2  ['1.205884', '-77.285787']        1.205884      -77.285787   \n",
       "3  ['1.212983', '-77.280906']        1.212983      -77.280906   \n",
       "\n",
       "                            type       v_type          price      v_price  \\\n",
       "0  Apartamento en venta en Pasto  Apartamento  $ 145.000.000  145000000.0   \n",
       "1         Casa en venta en Pasto         Casa  $ 460.000.000  460000000.0   \n",
       "2         Flat en venta en Pasto         Flat  $ 560.000.000  560000000.0   \n",
       "3  Apartamento en venta en Pasto  Apartamento  $ 275.000.000  275000000.0   \n",
       "\n",
       "     size  v_size  v_rooms  v_baths  \\\n",
       "0   93 m²    93.0      3.0      2.0   \n",
       "1  813 m²   813.0      5.0      3.0   \n",
       "2  170 m²   170.0      3.0      3.0   \n",
       "3   72 m²    72.0      3.0      2.0   \n",
       "\n",
       "                                         description  \n",
       "0  <div><b>vendo apartamento balcones de la prade...  \n",
       "1  <div><b>vendo casa centro de pasto</b><br><br>...  \n",
       "2  <div><b>Vendo apartamento sector Unicentro Pas...  \n",
       "3  <div><b>vendo apartamento central 72 mts</b><b...  "
      ]
     },
     "execution_count": 3,
     "metadata": {},
     "output_type": "execute_result"
    }
   ],
   "source": [
    "properties.head(4)"
   ]
  },
  {
   "cell_type": "code",
   "execution_count": null,
   "metadata": {
    "id": "45RRW_RlzIx-",
    "outputId": "87099bd8-acca-4291-e4a0-3a3c84b1d95a"
   },
   "outputs": [
    {
     "name": "stdout",
     "output_type": "stream",
     "text": [
      "<class 'pandas.core.frame.DataFrame'>\n",
      "Int64Index: 203 entries, 0 to 202\n",
      "Data columns (total 13 columns):\n",
      " #   Column          Non-Null Count  Dtype  \n",
      "---  ------          --------------  -----  \n",
      " 0   url             203 non-null    object \n",
      " 1   coordinates     172 non-null    object \n",
      " 2   v_coordinate_x  172 non-null    float64\n",
      " 3   v_coordinate_y  172 non-null    float64\n",
      " 4   type            203 non-null    object \n",
      " 5   v_type          203 non-null    object \n",
      " 6   price           196 non-null    object \n",
      " 7   v_price         196 non-null    float64\n",
      " 8   size            86 non-null     object \n",
      " 9   v_size          86 non-null     float64\n",
      " 10  v_rooms         175 non-null    float64\n",
      " 11  v_baths         182 non-null    float64\n",
      " 12  description     203 non-null    object \n",
      "dtypes: float64(6), object(7)\n",
      "memory usage: 22.2+ KB\n"
     ]
    }
   ],
   "source": [
    "properties.info()"
   ]
  },
  {
   "cell_type": "code",
   "execution_count": null,
   "metadata": {
    "id": "zz3Eu5jnzIyA",
    "outputId": "80041856-479d-420b-9609-c7b910b1d7a0"
   },
   "outputs": [
    {
     "data": {
      "text/html": [
       "<div>\n",
       "<style scoped>\n",
       "    .dataframe tbody tr th:only-of-type {\n",
       "        vertical-align: middle;\n",
       "    }\n",
       "\n",
       "    .dataframe tbody tr th {\n",
       "        vertical-align: top;\n",
       "    }\n",
       "\n",
       "    .dataframe thead th {\n",
       "        text-align: right;\n",
       "    }\n",
       "</style>\n",
       "<table border=\"1\" class=\"dataframe\">\n",
       "  <thead>\n",
       "    <tr style=\"text-align: right;\">\n",
       "      <th></th>\n",
       "      <th>v_coordinate_x</th>\n",
       "      <th>v_coordinate_y</th>\n",
       "      <th>v_price</th>\n",
       "      <th>v_size</th>\n",
       "      <th>v_rooms</th>\n",
       "      <th>v_baths</th>\n",
       "    </tr>\n",
       "  </thead>\n",
       "  <tbody>\n",
       "    <tr>\n",
       "      <th>count</th>\n",
       "      <td>172.000000</td>\n",
       "      <td>172.000000</td>\n",
       "      <td>1.960000e+02</td>\n",
       "      <td>86.000000</td>\n",
       "      <td>175.000000</td>\n",
       "      <td>182.000000</td>\n",
       "    </tr>\n",
       "    <tr>\n",
       "      <th>mean</th>\n",
       "      <td>1.220388</td>\n",
       "      <td>-77.282297</td>\n",
       "      <td>3.778748e+08</td>\n",
       "      <td>545.139535</td>\n",
       "      <td>3.640000</td>\n",
       "      <td>2.642857</td>\n",
       "    </tr>\n",
       "    <tr>\n",
       "      <th>std</th>\n",
       "      <td>0.035763</td>\n",
       "      <td>0.014842</td>\n",
       "      <td>2.664438e+08</td>\n",
       "      <td>1714.968559</td>\n",
       "      <td>1.909324</td>\n",
       "      <td>1.055859</td>\n",
       "    </tr>\n",
       "    <tr>\n",
       "      <th>min</th>\n",
       "      <td>1.161666</td>\n",
       "      <td>-77.346497</td>\n",
       "      <td>2.500000e+07</td>\n",
       "      <td>22.000000</td>\n",
       "      <td>2.000000</td>\n",
       "      <td>1.000000</td>\n",
       "    </tr>\n",
       "    <tr>\n",
       "      <th>25%</th>\n",
       "      <td>1.208439</td>\n",
       "      <td>-77.287504</td>\n",
       "      <td>1.968945e+08</td>\n",
       "      <td>77.250000</td>\n",
       "      <td>3.000000</td>\n",
       "      <td>2.000000</td>\n",
       "    </tr>\n",
       "    <tr>\n",
       "      <th>50%</th>\n",
       "      <td>1.218346</td>\n",
       "      <td>-77.284523</td>\n",
       "      <td>3.200000e+08</td>\n",
       "      <td>105.000000</td>\n",
       "      <td>3.000000</td>\n",
       "      <td>2.000000</td>\n",
       "    </tr>\n",
       "    <tr>\n",
       "      <th>75%</th>\n",
       "      <td>1.226978</td>\n",
       "      <td>-77.280775</td>\n",
       "      <td>4.800000e+08</td>\n",
       "      <td>173.750000</td>\n",
       "      <td>4.000000</td>\n",
       "      <td>3.000000</td>\n",
       "    </tr>\n",
       "    <tr>\n",
       "      <th>max</th>\n",
       "      <td>1.656387</td>\n",
       "      <td>-77.155987</td>\n",
       "      <td>2.000000e+09</td>\n",
       "      <td>10200.000000</td>\n",
       "      <td>20.000000</td>\n",
       "      <td>6.000000</td>\n",
       "    </tr>\n",
       "  </tbody>\n",
       "</table>\n",
       "</div>"
      ],
      "text/plain": [
       "       v_coordinate_x  v_coordinate_y       v_price        v_size     v_rooms  \\\n",
       "count      172.000000      172.000000  1.960000e+02     86.000000  175.000000   \n",
       "mean         1.220388      -77.282297  3.778748e+08    545.139535    3.640000   \n",
       "std          0.035763        0.014842  2.664438e+08   1714.968559    1.909324   \n",
       "min          1.161666      -77.346497  2.500000e+07     22.000000    2.000000   \n",
       "25%          1.208439      -77.287504  1.968945e+08     77.250000    3.000000   \n",
       "50%          1.218346      -77.284523  3.200000e+08    105.000000    3.000000   \n",
       "75%          1.226978      -77.280775  4.800000e+08    173.750000    4.000000   \n",
       "max          1.656387      -77.155987  2.000000e+09  10200.000000   20.000000   \n",
       "\n",
       "          v_baths  \n",
       "count  182.000000  \n",
       "mean     2.642857  \n",
       "std      1.055859  \n",
       "min      1.000000  \n",
       "25%      2.000000  \n",
       "50%      2.000000  \n",
       "75%      3.000000  \n",
       "max      6.000000  "
      ]
     },
     "execution_count": 5,
     "metadata": {},
     "output_type": "execute_result"
    }
   ],
   "source": [
    "properties.describe()"
   ]
  },
  {
   "cell_type": "code",
   "execution_count": null,
   "metadata": {
    "id": "_msPIfKozIyD",
    "outputId": "8a1e9795-e56e-4800-8c14-0b7bdce7c087"
   },
   "outputs": [
    {
     "name": "stdout",
     "output_type": "stream",
     "text": [
      "<class 'pandas.core.frame.DataFrame'>\n",
      "RangeIndex: 109 entries, 0 to 108\n",
      "Data columns (total 13 columns):\n",
      " #   Column          Non-Null Count  Dtype  \n",
      "---  ------          --------------  -----  \n",
      " 0   url             109 non-null    object \n",
      " 1   coordinates     109 non-null    object \n",
      " 2   v_coordinate_x  109 non-null    float64\n",
      " 3   v_coordinate_y  109 non-null    float64\n",
      " 4   type            109 non-null    object \n",
      " 5   v_type          109 non-null    object \n",
      " 6   price           105 non-null    object \n",
      " 7   v_price         105 non-null    float64\n",
      " 8   size            39 non-null     object \n",
      " 9   v_size          39 non-null     float64\n",
      " 10  v_rooms         102 non-null    float64\n",
      " 11  v_baths         104 non-null    float64\n",
      " 12  description     109 non-null    object \n",
      "dtypes: float64(6), object(7)\n",
      "memory usage: 11.2+ KB\n"
     ]
    }
   ],
   "source": [
    "apartments = properties.where(properties['v_type'] == \"Apartamento\").dropna(subset=['v_coordinate_x','v_coordinate_y']).reset_index().drop(columns='index')\n",
    "apartments.info()"
   ]
  },
  {
   "cell_type": "code",
   "execution_count": null,
   "metadata": {
    "id": "Lcjgiut-zIyH",
    "outputId": "5679bccb-05f1-44e4-ebec-34380ad66061",
    "scrolled": true
   },
   "outputs": [
    {
     "data": {
      "text/html": [
       "<div>\n",
       "<style scoped>\n",
       "    .dataframe tbody tr th:only-of-type {\n",
       "        vertical-align: middle;\n",
       "    }\n",
       "\n",
       "    .dataframe tbody tr th {\n",
       "        vertical-align: top;\n",
       "    }\n",
       "\n",
       "    .dataframe thead th {\n",
       "        text-align: right;\n",
       "    }\n",
       "</style>\n",
       "<table border=\"1\" class=\"dataframe\">\n",
       "  <thead>\n",
       "    <tr style=\"text-align: right;\">\n",
       "      <th></th>\n",
       "      <th>url</th>\n",
       "      <th>coordinates</th>\n",
       "      <th>v_coordinate_x</th>\n",
       "      <th>v_coordinate_y</th>\n",
       "      <th>type</th>\n",
       "      <th>v_type</th>\n",
       "      <th>price</th>\n",
       "      <th>v_price</th>\n",
       "      <th>size</th>\n",
       "      <th>v_size</th>\n",
       "      <th>v_rooms</th>\n",
       "      <th>v_baths</th>\n",
       "      <th>description</th>\n",
       "    </tr>\n",
       "  </thead>\n",
       "  <tbody>\n",
       "    <tr>\n",
       "      <th>12</th>\n",
       "      <td>https://www.properati.com.co/detalle/28cez_ven...</td>\n",
       "      <td>['1.231144', '-77.284245']</td>\n",
       "      <td>1.231144</td>\n",
       "      <td>-77.284245</td>\n",
       "      <td>Apartamento en venta en comuna 9-nariÑo</td>\n",
       "      <td>Apartamento</td>\n",
       "      <td>$ 473.390.368</td>\n",
       "      <td>473390368.0</td>\n",
       "      <td>NaN</td>\n",
       "      <td>NaN</td>\n",
       "      <td>4.0</td>\n",
       "      <td>5.0</td>\n",
       "      <td>&lt;div&gt;815-1001 D.C Colombia S.A.S Vende Apartam...</td>\n",
       "    </tr>\n",
       "    <tr>\n",
       "      <th>13</th>\n",
       "      <td>https://www.properati.com.co/detalle/28cev_ven...</td>\n",
       "      <td>['1.211675', '-77.260476']</td>\n",
       "      <td>1.211675</td>\n",
       "      <td>-77.260476</td>\n",
       "      <td>Apartamento en venta en comuna 12-nariÑo</td>\n",
       "      <td>Apartamento</td>\n",
       "      <td>$ 142.056.040</td>\n",
       "      <td>142056040.0</td>\n",
       "      <td>NaN</td>\n",
       "      <td>NaN</td>\n",
       "      <td>3.0</td>\n",
       "      <td>3.0</td>\n",
       "      <td>&lt;div&gt;815-1006 D.C Colombia S.A.S vende Apartam...</td>\n",
       "    </tr>\n",
       "    <tr>\n",
       "      <th>14</th>\n",
       "      <td>https://www.properati.com.co/detalle/24elz_ven...</td>\n",
       "      <td>['1.226415', '-77.285719']</td>\n",
       "      <td>1.226415</td>\n",
       "      <td>-77.285719</td>\n",
       "      <td>Apartamento en venta en comuna 9-nariÑo</td>\n",
       "      <td>Apartamento</td>\n",
       "      <td>$ 270.000.000</td>\n",
       "      <td>270000000.0</td>\n",
       "      <td>NaN</td>\n",
       "      <td>NaN</td>\n",
       "      <td>3.0</td>\n",
       "      <td>3.0</td>\n",
       "      <td>&lt;div&gt;En venta Moderno apartamento interior en ...</td>\n",
       "    </tr>\n",
       "    <tr>\n",
       "      <th>18</th>\n",
       "      <td>https://www.properati.com.co/detalle/2a2j5_ven...</td>\n",
       "      <td>['1.219655', '-77.286468']</td>\n",
       "      <td>1.219655</td>\n",
       "      <td>-77.286468</td>\n",
       "      <td>Apartamento en venta en comuna 7-nariÑo</td>\n",
       "      <td>Apartamento</td>\n",
       "      <td>$ 300.000.000</td>\n",
       "      <td>300000000.0</td>\n",
       "      <td>NaN</td>\n",
       "      <td>NaN</td>\n",
       "      <td>2.0</td>\n",
       "      <td>2.0</td>\n",
       "      <td>&lt;div&gt;En venta bello y acogedor apto en San Ign...</td>\n",
       "    </tr>\n",
       "    <tr>\n",
       "      <th>19</th>\n",
       "      <td>https://www.properati.com.co/detalle/2blg3_ven...</td>\n",
       "      <td>['1.216516', '-77.268777']</td>\n",
       "      <td>1.216516</td>\n",
       "      <td>-77.268777</td>\n",
       "      <td>Apartamento en venta en comuna 12-nariÑo</td>\n",
       "      <td>Apartamento</td>\n",
       "      <td>$ 140.000.000</td>\n",
       "      <td>140000000.0</td>\n",
       "      <td>NaN</td>\n",
       "      <td>NaN</td>\n",
       "      <td>2.0</td>\n",
       "      <td>1.0</td>\n",
       "      <td>&lt;div&gt;Se vende apartamento para estrenar en tor...</td>\n",
       "    </tr>\n",
       "    <tr>\n",
       "      <th>...</th>\n",
       "      <td>...</td>\n",
       "      <td>...</td>\n",
       "      <td>...</td>\n",
       "      <td>...</td>\n",
       "      <td>...</td>\n",
       "      <td>...</td>\n",
       "      <td>...</td>\n",
       "      <td>...</td>\n",
       "      <td>...</td>\n",
       "      <td>...</td>\n",
       "      <td>...</td>\n",
       "      <td>...</td>\n",
       "      <td>...</td>\n",
       "    </tr>\n",
       "    <tr>\n",
       "      <th>104</th>\n",
       "      <td>https://www.properati.com.co/detalle/1goq7_ven...</td>\n",
       "      <td>['1.215741', '-77.274103']</td>\n",
       "      <td>1.215741</td>\n",
       "      <td>-77.274103</td>\n",
       "      <td>Apartamento en venta en Pasto</td>\n",
       "      <td>Apartamento</td>\n",
       "      <td>NaN</td>\n",
       "      <td>NaN</td>\n",
       "      <td>NaN</td>\n",
       "      <td>NaN</td>\n",
       "      <td>5.0</td>\n",
       "      <td>3.0</td>\n",
       "      <td>&lt;div&gt;apartamento apartamento centro&lt;/div&gt;</td>\n",
       "    </tr>\n",
       "    <tr>\n",
       "      <th>105</th>\n",
       "      <td>https://www.properati.com.co/detalle/1e4f3_ven...</td>\n",
       "      <td>['1.218428', '-77.291952']</td>\n",
       "      <td>1.218428</td>\n",
       "      <td>-77.291952</td>\n",
       "      <td>Apartamento en venta en Pasto</td>\n",
       "      <td>Apartamento</td>\n",
       "      <td>NaN</td>\n",
       "      <td>NaN</td>\n",
       "      <td>NaN</td>\n",
       "      <td>NaN</td>\n",
       "      <td>3.0</td>\n",
       "      <td>2.0</td>\n",
       "      <td>&lt;div&gt;Vendo espectacular apartamento en condomi...</td>\n",
       "    </tr>\n",
       "    <tr>\n",
       "      <th>106</th>\n",
       "      <td>https://www.properati.com.co/detalle/18x1l_ven...</td>\n",
       "      <td>['1.224925', '-77.285312']</td>\n",
       "      <td>1.224925</td>\n",
       "      <td>-77.285312</td>\n",
       "      <td>Apartamento en venta en Pasto</td>\n",
       "      <td>Apartamento</td>\n",
       "      <td>$ 250.000.000</td>\n",
       "      <td>250000000.0</td>\n",
       "      <td>NaN</td>\n",
       "      <td>NaN</td>\n",
       "      <td>3.0</td>\n",
       "      <td>2.0</td>\n",
       "      <td>&lt;div&gt;Apartamento en venta sec maridiaz pasto e...</td>\n",
       "    </tr>\n",
       "    <tr>\n",
       "      <th>107</th>\n",
       "      <td>https://www.properati.com.co/detalle/2b7q1_ven...</td>\n",
       "      <td>['1.205884', '-77.285787']</td>\n",
       "      <td>1.205884</td>\n",
       "      <td>-77.285787</td>\n",
       "      <td>Apartamento en venta en Pasto</td>\n",
       "      <td>Apartamento</td>\n",
       "      <td>$ 150.000.000</td>\n",
       "      <td>150000000.0</td>\n",
       "      <td>NaN</td>\n",
       "      <td>NaN</td>\n",
       "      <td>2.0</td>\n",
       "      <td>NaN</td>\n",
       "      <td>&lt;div&gt;&lt;b&gt;SE VENDE APARTAMENTO SECTOR PARQUE BOL...</td>\n",
       "    </tr>\n",
       "    <tr>\n",
       "      <th>108</th>\n",
       "      <td>https://www.properati.com.co/detalle/1a4n4_ven...</td>\n",
       "      <td>['1.226856', '-77.297595']</td>\n",
       "      <td>1.226856</td>\n",
       "      <td>-77.297595</td>\n",
       "      <td>Apartamento en venta en Pasto</td>\n",
       "      <td>Apartamento</td>\n",
       "      <td>$ 195.000.000</td>\n",
       "      <td>195000000.0</td>\n",
       "      <td>NaN</td>\n",
       "      <td>NaN</td>\n",
       "      <td>3.0</td>\n",
       "      <td>2.0</td>\n",
       "      <td>&lt;div&gt;Arriendoapartamentoen bosque de la colina...</td>\n",
       "    </tr>\n",
       "  </tbody>\n",
       "</table>\n",
       "<p>70 rows × 13 columns</p>\n",
       "</div>"
      ],
      "text/plain": [
       "                                                   url  \\\n",
       "12   https://www.properati.com.co/detalle/28cez_ven...   \n",
       "13   https://www.properati.com.co/detalle/28cev_ven...   \n",
       "14   https://www.properati.com.co/detalle/24elz_ven...   \n",
       "18   https://www.properati.com.co/detalle/2a2j5_ven...   \n",
       "19   https://www.properati.com.co/detalle/2blg3_ven...   \n",
       "..                                                 ...   \n",
       "104  https://www.properati.com.co/detalle/1goq7_ven...   \n",
       "105  https://www.properati.com.co/detalle/1e4f3_ven...   \n",
       "106  https://www.properati.com.co/detalle/18x1l_ven...   \n",
       "107  https://www.properati.com.co/detalle/2b7q1_ven...   \n",
       "108  https://www.properati.com.co/detalle/1a4n4_ven...   \n",
       "\n",
       "                    coordinates  v_coordinate_x  v_coordinate_y  \\\n",
       "12   ['1.231144', '-77.284245']        1.231144      -77.284245   \n",
       "13   ['1.211675', '-77.260476']        1.211675      -77.260476   \n",
       "14   ['1.226415', '-77.285719']        1.226415      -77.285719   \n",
       "18   ['1.219655', '-77.286468']        1.219655      -77.286468   \n",
       "19   ['1.216516', '-77.268777']        1.216516      -77.268777   \n",
       "..                          ...             ...             ...   \n",
       "104  ['1.215741', '-77.274103']        1.215741      -77.274103   \n",
       "105  ['1.218428', '-77.291952']        1.218428      -77.291952   \n",
       "106  ['1.224925', '-77.285312']        1.224925      -77.285312   \n",
       "107  ['1.205884', '-77.285787']        1.205884      -77.285787   \n",
       "108  ['1.226856', '-77.297595']        1.226856      -77.297595   \n",
       "\n",
       "                                         type       v_type          price  \\\n",
       "12    Apartamento en venta en comuna 9-nariÑo  Apartamento  $ 473.390.368   \n",
       "13   Apartamento en venta en comuna 12-nariÑo  Apartamento  $ 142.056.040   \n",
       "14    Apartamento en venta en comuna 9-nariÑo  Apartamento  $ 270.000.000   \n",
       "18    Apartamento en venta en comuna 7-nariÑo  Apartamento  $ 300.000.000   \n",
       "19   Apartamento en venta en comuna 12-nariÑo  Apartamento  $ 140.000.000   \n",
       "..                                        ...          ...            ...   \n",
       "104             Apartamento en venta en Pasto  Apartamento            NaN   \n",
       "105             Apartamento en venta en Pasto  Apartamento            NaN   \n",
       "106             Apartamento en venta en Pasto  Apartamento  $ 250.000.000   \n",
       "107             Apartamento en venta en Pasto  Apartamento  $ 150.000.000   \n",
       "108             Apartamento en venta en Pasto  Apartamento  $ 195.000.000   \n",
       "\n",
       "         v_price size  v_size  v_rooms  v_baths  \\\n",
       "12   473390368.0  NaN     NaN      4.0      5.0   \n",
       "13   142056040.0  NaN     NaN      3.0      3.0   \n",
       "14   270000000.0  NaN     NaN      3.0      3.0   \n",
       "18   300000000.0  NaN     NaN      2.0      2.0   \n",
       "19   140000000.0  NaN     NaN      2.0      1.0   \n",
       "..           ...  ...     ...      ...      ...   \n",
       "104          NaN  NaN     NaN      5.0      3.0   \n",
       "105          NaN  NaN     NaN      3.0      2.0   \n",
       "106  250000000.0  NaN     NaN      3.0      2.0   \n",
       "107  150000000.0  NaN     NaN      2.0      NaN   \n",
       "108  195000000.0  NaN     NaN      3.0      2.0   \n",
       "\n",
       "                                           description  \n",
       "12   <div>815-1001 D.C Colombia S.A.S Vende Apartam...  \n",
       "13   <div>815-1006 D.C Colombia S.A.S vende Apartam...  \n",
       "14   <div>En venta Moderno apartamento interior en ...  \n",
       "18   <div>En venta bello y acogedor apto en San Ign...  \n",
       "19   <div>Se vende apartamento para estrenar en tor...  \n",
       "..                                                 ...  \n",
       "104          <div>apartamento apartamento centro</div>  \n",
       "105  <div>Vendo espectacular apartamento en condomi...  \n",
       "106  <div>Apartamento en venta sec maridiaz pasto e...  \n",
       "107  <div><b>SE VENDE APARTAMENTO SECTOR PARQUE BOL...  \n",
       "108  <div>Arriendoapartamentoen bosque de la colina...  \n",
       "\n",
       "[70 rows x 13 columns]"
      ]
     },
     "execution_count": 120,
     "metadata": {},
     "output_type": "execute_result"
    }
   ],
   "source": [
    "apartments[~apartments['v_size'].notnull()]"
   ]
  },
  {
   "cell_type": "code",
   "execution_count": null,
   "metadata": {
    "id": "lUUh8x3lzIyK",
    "outputId": "846ffb14-a959-465d-d27e-1d7dccf0c6db"
   },
   "outputs": [
    {
     "name": "stdout",
     "output_type": "stream",
     "text": [
      "<class 'pandas.core.frame.DataFrame'>\n",
      "Int64Index: 38 entries, 0 to 147\n",
      "Data columns (total 2 columns):\n",
      " #   Column   Non-Null Count  Dtype  \n",
      "---  ------   --------------  -----  \n",
      " 0   v_price  38 non-null     float64\n",
      " 1   v_size   38 non-null     float64\n",
      "dtypes: float64(2)\n",
      "memory usage: 912.0 bytes\n"
     ]
    }
   ],
   "source": [
    "sub_apartments =  apartments[[\"v_price\",\"v_size\"]].dropna()\n",
    "sub_apartments.info()"
   ]
  },
  {
   "cell_type": "markdown",
   "metadata": {
    "id": "GbeiXXa6zIyM"
   },
   "source": [
    "We can see, just a few apartments have information about size, we are going to explore \"price\" and \"size\" dimensions to view a possible solution to complement the null values"
   ]
  },
  {
   "cell_type": "code",
   "execution_count": null,
   "metadata": {
    "id": "TtBw1DiqzIyN"
   },
   "outputs": [],
   "source": [
    "import matplotlib.pyplot as plt\n",
    "import seaborn as sns"
   ]
  },
  {
   "cell_type": "code",
   "execution_count": null,
   "metadata": {
    "id": "yBeIwonMzIyO",
    "outputId": "48b652e3-b1ac-45eb-b920-e5c094a5652f"
   },
   "outputs": [
    {
     "data": {
      "image/png": "[encoded data removed]",
      "text/plain": [
       "<Figure size 432x288 with 1 Axes>"
      ]
     },
     "metadata": {
      "needs_background": "light"
     },
     "output_type": "display_data"
    },
    {
     "name": "stdout",
     "output_type": "stream",
     "text": [
      "We can see something like a linear correlation between both variables\n"
     ]
    }
   ],
   "source": [
    "plt.figure()\n",
    "plt.scatter(sub_apartments.v_price/10000000,sub_apartments.v_size)\n",
    "plt.title(\"Apartments Price vs Apartment size\")\n",
    "plt.xlabel(\"Price * 10^-7 COP\")\n",
    "plt.ylabel(\"Size(square meter)\")\n",
    "plt.show()\n",
    "print(\"We can see something like a linear correlation between both variables\")"
   ]
  },
  {
   "cell_type": "code",
   "execution_count": null,
   "metadata": {
    "id": "j-lMIzh8zIyP",
    "outputId": "b977a00b-64a4-43c8-d7ea-4c4c2abe0cba"
   },
   "outputs": [
    {
     "data": {
      "text/html": [
       "<div>\n",
       "<style scoped>\n",
       "    .dataframe tbody tr th:only-of-type {\n",
       "        vertical-align: middle;\n",
       "    }\n",
       "\n",
       "    .dataframe tbody tr th {\n",
       "        vertical-align: top;\n",
       "    }\n",
       "\n",
       "    .dataframe thead th {\n",
       "        text-align: right;\n",
       "    }\n",
       "</style>\n",
       "<table border=\"1\" class=\"dataframe\">\n",
       "  <thead>\n",
       "    <tr style=\"text-align: right;\">\n",
       "      <th></th>\n",
       "      <th>v_price</th>\n",
       "      <th>v_size</th>\n",
       "    </tr>\n",
       "  </thead>\n",
       "  <tbody>\n",
       "    <tr>\n",
       "      <th>v_price</th>\n",
       "      <td>1.000000</td>\n",
       "      <td>0.789493</td>\n",
       "    </tr>\n",
       "    <tr>\n",
       "      <th>v_size</th>\n",
       "      <td>0.789493</td>\n",
       "      <td>1.000000</td>\n",
       "    </tr>\n",
       "  </tbody>\n",
       "</table>\n",
       "</div>"
      ],
      "text/plain": [
       "          v_price    v_size\n",
       "v_price  1.000000  0.789493\n",
       "v_size   0.789493  1.000000"
      ]
     },
     "execution_count": 29,
     "metadata": {},
     "output_type": "execute_result"
    }
   ],
   "source": [
    "sub_apartments.corr()"
   ]
  },
  {
   "cell_type": "markdown",
   "metadata": {
    "id": "XAJbIMklzIyQ"
   },
   "source": [
    "0.78 is a strong positive correlation, we are going to try a linear regression between both variables"
   ]
  },
  {
   "cell_type": "code",
   "execution_count": null,
   "metadata": {
    "id": "21aJ7htQzIyQ"
   },
   "outputs": [],
   "source": [
    "from sklearn.model_selection import train_test_split"
   ]
  },
  {
   "cell_type": "code",
   "execution_count": null,
   "metadata": {
    "id": "VXHol5oozIyR"
   },
   "outputs": [],
   "source": [
    "X_train, X_test, y_train, y_test = train_test_split((sub_apartments['v_price']/10000000), sub_apartments['v_size'],test_size=0.2)\n",
    "X_train = np.array(X_train).reshape(len(X_train),1)\n",
    "X_test = np.array(X_test).reshape(len(X_test),1)\n",
    "y_train = np.array(y_train).reshape(len(y_train),1)\n",
    "y_test = np.array(y_test).reshape(len(y_test),1)"
   ]
  },
  {
   "cell_type": "code",
   "execution_count": null,
   "metadata": {
    "id": "-Lt_I52yzIyS"
   },
   "outputs": [],
   "source": [
    "from sklearn.linear_model import LinearRegressiongression"
   ]
  },
  {
   "cell_type": "code",
   "execution_count": null,
   "metadata": {
    "id": "MbT3oNE1zIyT"
   },
   "outputs": [],
   "source": [
    "reg = LinearRegression()\n",
    "reg = reg.fit(X_train,y_train)"
   ]
  },
  {
   "cell_type": "code",
   "execution_count": null,
   "metadata": {
    "id": "JaBpJGNUzIyU"
   },
   "outputs": [],
   "source": [
    "y_train_pred = reg.predict(X_train)\n",
    "y_test_pred = reg.predict(np.array(X_test).reshape(len(X_test),1))"
   ]
  },
  {
   "cell_type": "code",
   "execution_count": null,
   "metadata": {
    "id": "OS7_3-8PzIyV"
   },
   "outputs": [],
   "source": [
    "#Now we see if our results are trustworthy\n",
    "def kpi_ML(y_train, y_train_pred, y_test, y_test_pred, name=''):\n",
    "    \n",
    "    df = pd.DataFrame(columns=['MAE','RMSE','Bias'], index=['Train','Test'])\n",
    "    df.index.name = name\n",
    "    df.loc['Train','MAE'] = 100*np.mean(abs(y_train - y_train_pred))/np.mean(y_train)\n",
    "    df.loc['Train','RMSE'] = 100*np.sqrt(np.mean((y_train - y_train_pred)**2))/np.mean(y_train)\n",
    "    df.loc['Train','Bias'] = 100*np.mean((y_train - y_train_pred))/np.mean(y_train)\n",
    "    df.loc['Test','MAE'] = 100*np.mean(abs(y_test - y_test_pred))/np.mean(y_test)\n",
    "    df.loc['Test','RMSE'] = 100*np.sqrt(np.mean((y_test - y_test_pred)**2))/np.mean(y_test)\n",
    "    df.loc['Test','Bias'] =  100*np.mean((y_test - y_test_pred))/np.mean(y_test)\n",
    "    df = df.astype(float).round(1)\n",
    "    print(df)"
   ]
  },
  {
   "cell_type": "code",
   "execution_count": null,
   "metadata": {
    "id": "zL-juNOzzIyW",
    "outputId": "5ec9a947-f301-495e-9bf9-e74339ffc2eb"
   },
   "outputs": [
    {
     "name": "stdout",
     "output_type": "stream",
     "text": [
      "                    MAE  RMSE  Bias\n",
      "Linear Regression                  \n",
      "Train              14.8  21.7   0.0\n",
      "Test               23.1  38.4  13.7\n"
     ]
    }
   ],
   "source": [
    "kpi_ML(y_train, y_train_pred, y_test, y_test_pred, name='Linear Regression')"
   ]
  },
  {
   "cell_type": "code",
   "execution_count": null,
   "metadata": {
    "id": "D6PFhvpczIyY",
    "outputId": "fea4ed92-9021-4bfe-a71b-5a5044b1b931"
   },
   "outputs": [
    {
     "data": {
      "image/png": "[encoded data removed]",
      "text/plain": [
       "<Figure size 432x288 with 1 Axes>"
      ]
     },
     "metadata": {
      "needs_background": "light"
     },
     "output_type": "display_data"
    }
   ],
   "source": [
    "plt.figure()\n",
    "plt.scatter(sub_apartments.v_price/10000000,sub_apartments.v_size, c='blue')\n",
    "plt.scatter(X_train,y_train_pred, c='green')\n",
    "plt.scatter(X_test,y_test_pred, c='red')\n",
    "plt.title(\"Apartments Price vs Apartment size\")\n",
    "plt.xlabel(\"Price * 10^-7 [COP]\")\n",
    "plt.ylabel(\"Size[square meter]\")\n",
    "plt.show()"
   ]
  },
  {
   "cell_type": "code",
   "execution_count": null,
   "metadata": {
    "id": "mffAsxO7zIyZ",
    "outputId": "98cded8a-72ef-4cd0-ef4e-16777a56b92e"
   },
   "outputs": [
    {
     "name": "stdout",
     "output_type": "stream",
     "text": [
      "This model explains 61.22% of real variable\n"
     ]
    }
   ],
   "source": [
    "X = (sub_apartments['v_price']/10000000)\n",
    "y = sub_apartments['v_size']\n",
    "X = np.array(X).reshape(-1,1)\n",
    "y = np.array(y).reshape(-1,1)\n",
    "R_sq = reg.score(X,y)\n",
    "print('This model explains {}% of real variable'.format(round(R_sq*100,2)))"
   ]
  },
  {
   "cell_type": "markdown",
   "metadata": {
    "id": "4TzWBJFzzIya"
   },
   "source": [
    "###### As we can see, this model has some KPI far from been perfect, but are acceptable to apply to our dataset apartment sizes"
   ]
  },
  {
   "cell_type": "code",
   "execution_count": null,
   "metadata": {
    "id": "vGyiW9iNzIyb"
   },
   "outputs": [],
   "source": [
    "apartments_new = apartments.copy()\n",
    "apartments_new = apartments_new.dropna(subset=['v_price']).reset_index()"
   ]
  },
  {
   "cell_type": "code",
   "execution_count": null,
   "metadata": {
    "id": "qbp-tGGgzIyc"
   },
   "outputs": [],
   "source": [
    "indexes =  apartments_new[~apartments_new['v_size'].notnull()].index.to_list()\n",
    "for row in indexes:\n",
    "    price = apartments_new.loc[row,'v_price']/10000000\n",
    "    size = reg.predict(np.array(price).reshape(-1,1))\n",
    "    apartments_new.loc[row,'v_size'] = size[0][0]\n",
    "apartments_new.drop(columns=['index'])"
   ]
  },
  {
   "cell_type": "code",
   "execution_count": null,
   "metadata": {
    "id": "yBAKGEwWzIyc",
    "outputId": "b174a2b0-77a9-417a-8376-3f6878b5925f"
   },
   "outputs": [
    {
     "name": "stdout",
     "output_type": "stream",
     "text": [
      "<class 'pandas.core.frame.DataFrame'>\n",
      "RangeIndex: 105 entries, 0 to 104\n",
      "Data columns (total 14 columns):\n",
      " #   Column          Non-Null Count  Dtype  \n",
      "---  ------          --------------  -----  \n",
      " 0   index           105 non-null    int64  \n",
      " 1   url             105 non-null    object \n",
      " 2   coordinates     105 non-null    object \n",
      " 3   v_coordinate_x  105 non-null    float64\n",
      " 4   v_coordinate_y  105 non-null    float64\n",
      " 5   type            105 non-null    object \n",
      " 6   v_type          105 non-null    object \n",
      " 7   price           105 non-null    object \n",
      " 8   v_price         105 non-null    float64\n",
      " 9   size            38 non-null     object \n",
      " 10  v_size          105 non-null    float64\n",
      " 11  v_rooms         98 non-null     float64\n",
      " 12  v_baths         100 non-null    float64\n",
      " 13  description     105 non-null    object \n",
      "dtypes: float64(6), int64(1), object(7)\n",
      "memory usage: 11.6+ KB\n"
     ]
    }
   ],
   "source": [
    "apartments_new.info()"
   ]
  },
  {
   "cell_type": "code",
   "execution_count": null,
   "metadata": {
    "id": "HSU6xw74zIyd"
   },
   "outputs": [],
   "source": [
    "apartments_new['v_price_red'] = apartments_new['v_price']/10000000"
   ]
  },
  {
   "cell_type": "markdown",
   "metadata": {
    "id": "t6h4Ep9EzIyd"
   },
   "source": [
    "Now we have an almost full dataset, and we are going to clusterize our apartments, before data normalization"
   ]
  },
  {
   "cell_type": "code",
   "execution_count": null,
   "metadata": {
    "id": "7CXVLLElzIyd",
    "outputId": "933f6e18-336e-42b1-bdf9-90ece0553a80"
   },
   "outputs": [
    {
     "data": {
      "text/plain": [
       "Index(['index', 'url', 'coordinates', 'v_coordinate_x', 'v_coordinate_y',\n",
       "       'type', 'v_type', 'price', 'v_price', 'size', 'v_size', 'v_rooms',\n",
       "       'v_baths', 'description', 'v_price_red'],\n",
       "      dtype='object')"
      ]
     },
     "execution_count": 168,
     "metadata": {},
     "output_type": "execute_result"
    }
   ],
   "source": [
    "apartments_new.columns"
   ]
  },
  {
   "cell_type": "code",
   "execution_count": null,
   "metadata": {
    "id": "LMx14P4ezIye",
    "outputId": "dd51d6c4-79be-44be-abf4-98ca065fd21e"
   },
   "outputs": [
    {
     "data": {
      "image/png": "[encoded data removed]",
      "text/plain": [
       "<Figure size 720x720 with 20 Axes>"
      ]
     },
     "metadata": {},
     "output_type": "display_data"
    }
   ],
   "source": [
    "sns.set(style='ticks',color_codes=True)\n",
    "sns.pairplot(apartments_new, vars=['v_coordinate_x', 'v_coordinate_y', 'v_size', 'v_price_red'])\n",
    "plt.show()"
   ]
  },
  {
   "cell_type": "code",
   "execution_count": null,
   "metadata": {
    "id": "YD9ryx9GzIye"
   },
   "outputs": [],
   "source": [
    "def scaler(df):\n",
    "    mean = df.mean(axis=0)\n",
    "    maxi = df.max(axis=0)\n",
    "    mini = df.min(axis=0)\n",
    "    df_norm = pd.DataFrame()\n",
    "    df_norm = df.subtract(mean,axis=1)\n",
    "    df_norm = df_norm.divide(maxi-mini,axis=1).fillna(0)\n",
    "    return df_norm    "
   ]
  },
  {
   "cell_type": "code",
   "execution_count": null,
   "metadata": {
    "id": "LxP7SfpWzIyf",
    "outputId": "1379f542-3a50-4dd4-9e52-a1ad1d3014e4"
   },
   "outputs": [
    {
     "name": "stdout",
     "output_type": "stream",
     "text": [
      "<class 'pandas.core.frame.DataFrame'>\n",
      "Int64Index: 96 entries, 0 to 104\n",
      "Data columns (total 6 columns):\n",
      " #   Column          Non-Null Count  Dtype  \n",
      "---  ------          --------------  -----  \n",
      " 0   v_coordinate_x  96 non-null     float64\n",
      " 1   v_coordinate_y  96 non-null     float64\n",
      " 2   v_size          96 non-null     float64\n",
      " 3   v_rooms         96 non-null     float64\n",
      " 4   v_baths         96 non-null     float64\n",
      " 5   v_price_red     96 non-null     float64\n",
      "dtypes: float64(6)\n",
      "memory usage: 5.2 KB\n"
     ]
    }
   ],
   "source": [
    "apartments_new[['v_coordinate_x', 'v_coordinate_y', 'v_size',\n",
    "                'v_rooms', 'v_baths', 'v_price_red']].dropna().info()"
   ]
  },
  {
   "cell_type": "code",
   "execution_count": null,
   "metadata": {
    "id": "2cLBtnxEzIyf"
   },
   "outputs": [],
   "source": [
    "apartments_norm = scaler(apartments_new[['v_coordinate_x', 'v_coordinate_y', 'v_size',\n",
    "                                        'v_rooms', 'v_baths', 'v_price_red']].dropna())"
   ]
  },
  {
   "cell_type": "code",
   "execution_count": null,
   "metadata": {
    "id": "o0RIX-8JzIyg",
    "outputId": "461a3fc4-c654-446d-b40c-5a5faa18c043"
   },
   "outputs": [
    {
     "data": {
      "text/plain": [
       "<AxesSubplot:>"
      ]
     },
     "execution_count": 210,
     "metadata": {},
     "output_type": "execute_result"
    },
    {
     "data": {
      "image/png": "[encoded data removed]",
      "text/plain": [
       "<Figure size 432x288 with 1 Axes>"
      ]
     },
     "metadata": {},
     "output_type": "display_data"
    }
   ],
   "source": [
    "sns.boxplot(data = apartments_norm)"
   ]
  },
  {
   "cell_type": "code",
   "execution_count": null,
   "metadata": {
    "id": "wIJfMFtXzIyg",
    "outputId": "211ae3fd-0ac4-4b3c-ac37-38244ec328c4"
   },
   "outputs": [
    {
     "data": {
      "text/plain": [
       "Index(['v_coordinate_x', 'v_coordinate_y', 'v_size', 'v_rooms', 'v_baths',\n",
       "       'v_price_red'],\n",
       "      dtype='object')"
      ]
     },
     "execution_count": 218,
     "metadata": {},
     "output_type": "execute_result"
    }
   ],
   "source": [
    "apartments_norm.columns"
   ]
  },
  {
   "cell_type": "markdown",
   "metadata": {
    "id": "vyWBh2EhzIyh"
   },
   "source": [
    "#### CLUSTERING"
   ]
  },
  {
   "cell_type": "code",
   "execution_count": null,
   "metadata": {
    "id": "_1FZ6XHPzIyh"
   },
   "outputs": [],
   "source": [
    "from sklearn.cluster import KMeans"
   ]
  },
  {
   "cell_type": "markdown",
   "metadata": {
    "id": "YfTYbiXwzIyi"
   },
   "source": [
    "##### KMEANS"
   ]
  },
  {
   "cell_type": "markdown",
   "metadata": {
    "id": "cigXKsLxzIyi"
   },
   "source": [
    "###### Inertia"
   ]
  },
  {
   "cell_type": "code",
   "execution_count": null,
   "metadata": {
    "id": "_A-IYUvazIyi",
    "outputId": "949abd09-ade5-4fe8-bbe9-c8151f2358ab"
   },
   "outputs": [
    {
     "name": "stderr",
     "output_type": "stream",
     "text": [
      "C:\\Anaconda3\\lib\\site-packages\\sklearn\\cluster\\_kmeans.py:881: UserWarning: KMeans is known to have a memory leak on Windows with MKL, when there are less chunks than available threads. You can avoid it by setting the environment variable OMP_NUM_THREADS=1.\n",
      "  warnings.warn(\n"
     ]
    },
    {
     "data": {
      "text/plain": [
       "<AxesSubplot:xlabel='Number of clusters'>"
      ]
     },
     "execution_count": 212,
     "metadata": {},
     "output_type": "execute_result"
    },
    {
     "data": {
      "image/png": "[encoded data removed]",
      "text/plain": [
       "<Figure size 432x288 with 1 Axes>"
      ]
     },
     "metadata": {},
     "output_type": "display_data"
    }
   ],
   "source": [
    "results = []\n",
    "for n in range(1,10):\n",
    "    kmeans = KMeans(n_clusters=n, random_state=0).fit(apartments_norm)\n",
    "    results.append([n,kmeans.inertia_])\n",
    "results = pd.DataFrame(data=results,columns=['Number of clusters','Inertia']).set_index('Number of clusters')\n",
    "results.plot()"
   ]
  },
  {
   "cell_type": "code",
   "execution_count": null,
   "metadata": {
    "id": "mEED8oTHzIyj",
    "outputId": "5b155f48-d015-46a5-a985-8b2624d12c21"
   },
   "outputs": [
    {
     "data": {
      "text/plain": [
       "0      2\n",
       "1      2\n",
       "2      3\n",
       "3      2\n",
       "4      2\n",
       "      ..\n",
       "98     1\n",
       "99     1\n",
       "100    1\n",
       "102    3\n",
       "104    3\n",
       "Length: 96, dtype: int32"
      ]
     },
     "execution_count": 216,
     "metadata": {},
     "output_type": "execute_result"
    }
   ],
   "source": [
    "kmeans = KMeans(n_clusters=5).fit(apartments_norm)\n",
    "r_group = kmeans.predict(apartments_norm)\n",
    "r_group = pd.Series(data=r_group, index=apartments_norm.index)\n",
    "r_group"
   ]
  },
  {
   "cell_type": "code",
   "execution_count": null,
   "metadata": {
    "id": "1cDEtzSIzIyj",
    "outputId": "388b2feb-8c07-4b88-8bbb-e89aa4848e13"
   },
   "outputs": [
    {
     "data": {
      "text/html": [
       "<div>\n",
       "<style scoped>\n",
       "    .dataframe tbody tr th:only-of-type {\n",
       "        vertical-align: middle;\n",
       "    }\n",
       "\n",
       "    .dataframe tbody tr th {\n",
       "        vertical-align: top;\n",
       "    }\n",
       "\n",
       "    .dataframe thead th {\n",
       "        text-align: right;\n",
       "    }\n",
       "</style>\n",
       "<table border=\"1\" class=\"dataframe\">\n",
       "  <thead>\n",
       "    <tr style=\"text-align: right;\">\n",
       "      <th></th>\n",
       "      <th>v_coordinate_x</th>\n",
       "      <th>v_coordinate_y</th>\n",
       "      <th>v_size</th>\n",
       "      <th>v_rooms</th>\n",
       "      <th>v_baths</th>\n",
       "      <th>v_price_red</th>\n",
       "    </tr>\n",
       "  </thead>\n",
       "  <tbody>\n",
       "    <tr>\n",
       "      <th>0</th>\n",
       "      <td>0.234124</td>\n",
       "      <td>-0.031792</td>\n",
       "      <td>0.122398</td>\n",
       "      <td>0.023750</td>\n",
       "      <td>0.138021</td>\n",
       "      <td>0.128563</td>\n",
       "    </tr>\n",
       "    <tr>\n",
       "      <th>1</th>\n",
       "      <td>-0.255610</td>\n",
       "      <td>0.411288</td>\n",
       "      <td>-0.157746</td>\n",
       "      <td>-0.015224</td>\n",
       "      <td>-0.131210</td>\n",
       "      <td>-0.160438</td>\n",
       "    </tr>\n",
       "    <tr>\n",
       "      <th>2</th>\n",
       "      <td>-0.355802</td>\n",
       "      <td>-0.069416</td>\n",
       "      <td>-0.080963</td>\n",
       "      <td>-0.107230</td>\n",
       "      <td>-0.126685</td>\n",
       "      <td>-0.113221</td>\n",
       "    </tr>\n",
       "    <tr>\n",
       "      <th>3</th>\n",
       "      <td>0.144093</td>\n",
       "      <td>-0.110210</td>\n",
       "      <td>-0.063828</td>\n",
       "      <td>-0.043347</td>\n",
       "      <td>-0.103915</td>\n",
       "      <td>-0.047921</td>\n",
       "    </tr>\n",
       "    <tr>\n",
       "      <th>4</th>\n",
       "      <td>-0.094843</td>\n",
       "      <td>0.004465</td>\n",
       "      <td>0.234579</td>\n",
       "      <td>0.277083</td>\n",
       "      <td>0.363021</td>\n",
       "      <td>0.228194</td>\n",
       "    </tr>\n",
       "  </tbody>\n",
       "</table>\n",
       "</div>"
      ],
      "text/plain": [
       "   v_coordinate_x  v_coordinate_y    v_size   v_rooms   v_baths  v_price_red\n",
       "0        0.234124       -0.031792  0.122398  0.023750  0.138021     0.128563\n",
       "1       -0.255610        0.411288 -0.157746 -0.015224 -0.131210    -0.160438\n",
       "2       -0.355802       -0.069416 -0.080963 -0.107230 -0.126685    -0.113221\n",
       "3        0.144093       -0.110210 -0.063828 -0.043347 -0.103915    -0.047921\n",
       "4       -0.094843        0.004465  0.234579  0.277083  0.363021     0.228194"
      ]
     },
     "execution_count": 219,
     "metadata": {},
     "output_type": "execute_result"
    }
   ],
   "source": [
    "centers = pd.DataFrame(data=kmeans.cluster_centers_, \n",
    "                       columns=['v_coordinate_x', 'v_coordinate_y', 'v_size', 'v_rooms', 'v_baths', 'v_price_red'])\n",
    "centers"
   ]
  },
  {
   "cell_type": "code",
   "execution_count": null,
   "metadata": {
    "id": "KtPrANESzIyk"
   },
   "outputs": [],
   "source": [
    "apartments_new['KM_Group'] = r_group"
   ]
  },
  {
   "cell_type": "code",
   "execution_count": null,
   "metadata": {
    "id": "RSSOyF_uzIyk",
    "outputId": "3365994e-0d62-4689-f6b8-58fd52519759"
   },
   "outputs": [
    {
     "data": {
      "text/html": [
       "<div>\n",
       "<style scoped>\n",
       "    .dataframe tbody tr th:only-of-type {\n",
       "        vertical-align: middle;\n",
       "    }\n",
       "\n",
       "    .dataframe tbody tr th {\n",
       "        vertical-align: top;\n",
       "    }\n",
       "\n",
       "    .dataframe thead th {\n",
       "        text-align: right;\n",
       "    }\n",
       "</style>\n",
       "<table border=\"1\" class=\"dataframe\">\n",
       "  <thead>\n",
       "    <tr style=\"text-align: right;\">\n",
       "      <th></th>\n",
       "      <th>index</th>\n",
       "      <th>v_coordinate_x</th>\n",
       "      <th>v_coordinate_y</th>\n",
       "      <th>v_price</th>\n",
       "      <th>v_size</th>\n",
       "      <th>v_rooms</th>\n",
       "      <th>v_baths</th>\n",
       "      <th>v_price_red</th>\n",
       "    </tr>\n",
       "    <tr>\n",
       "      <th>KM_Group</th>\n",
       "      <th></th>\n",
       "      <th></th>\n",
       "      <th></th>\n",
       "      <th></th>\n",
       "      <th></th>\n",
       "      <th></th>\n",
       "      <th></th>\n",
       "      <th></th>\n",
       "    </tr>\n",
       "  </thead>\n",
       "  <tbody>\n",
       "    <tr>\n",
       "      <th>0.0</th>\n",
       "      <td>63.600000</td>\n",
       "      <td>1.229122</td>\n",
       "      <td>-77.284199</td>\n",
       "      <td>5.002720e+08</td>\n",
       "      <td>138.615303</td>\n",
       "      <td>3.040000</td>\n",
       "      <td>3.000000</td>\n",
       "      <td>50.027200</td>\n",
       "    </tr>\n",
       "    <tr>\n",
       "      <th>1.0</th>\n",
       "      <td>54.076923</td>\n",
       "      <td>1.211716</td>\n",
       "      <td>-77.265163</td>\n",
       "      <td>1.606966e+08</td>\n",
       "      <td>68.598682</td>\n",
       "      <td>2.923077</td>\n",
       "      <td>1.923077</td>\n",
       "      <td>16.069662</td>\n",
       "    </tr>\n",
       "    <tr>\n",
       "      <th>2.0</th>\n",
       "      <td>24.058824</td>\n",
       "      <td>1.208156</td>\n",
       "      <td>-77.285815</td>\n",
       "      <td>2.161765e+08</td>\n",
       "      <td>87.789115</td>\n",
       "      <td>2.647059</td>\n",
       "      <td>1.941176</td>\n",
       "      <td>21.617647</td>\n",
       "    </tr>\n",
       "    <tr>\n",
       "      <th>3.0</th>\n",
       "      <td>50.806452</td>\n",
       "      <td>1.225922</td>\n",
       "      <td>-77.287568</td>\n",
       "      <td>2.929032e+08</td>\n",
       "      <td>92.071872</td>\n",
       "      <td>2.838710</td>\n",
       "      <td>2.032258</td>\n",
       "      <td>29.290323</td>\n",
       "    </tr>\n",
       "    <tr>\n",
       "      <th>4.0</th>\n",
       "      <td>43.300000</td>\n",
       "      <td>1.217430</td>\n",
       "      <td>-77.282641</td>\n",
       "      <td>6.173390e+08</td>\n",
       "      <td>166.652968</td>\n",
       "      <td>3.800000</td>\n",
       "      <td>3.900000</td>\n",
       "      <td>61.733904</td>\n",
       "    </tr>\n",
       "  </tbody>\n",
       "</table>\n",
       "</div>"
      ],
      "text/plain": [
       "              index  v_coordinate_x  v_coordinate_y       v_price      v_size  \\\n",
       "KM_Group                                                                        \n",
       "0.0       63.600000        1.229122      -77.284199  5.002720e+08  138.615303   \n",
       "1.0       54.076923        1.211716      -77.265163  1.606966e+08   68.598682   \n",
       "2.0       24.058824        1.208156      -77.285815  2.161765e+08   87.789115   \n",
       "3.0       50.806452        1.225922      -77.287568  2.929032e+08   92.071872   \n",
       "4.0       43.300000        1.217430      -77.282641  6.173390e+08  166.652968   \n",
       "\n",
       "           v_rooms   v_baths  v_price_red  \n",
       "KM_Group                                   \n",
       "0.0       3.040000  3.000000    50.027200  \n",
       "1.0       2.923077  1.923077    16.069662  \n",
       "2.0       2.647059  1.941176    21.617647  \n",
       "3.0       2.838710  2.032258    29.290323  \n",
       "4.0       3.800000  3.900000    61.733904  "
      ]
     },
     "execution_count": 222,
     "metadata": {},
     "output_type": "execute_result"
    }
   ],
   "source": [
    "apartments_new.groupby(\"KM_Group\").mean()"
   ]
  },
  {
   "cell_type": "code",
   "execution_count": null,
   "metadata": {
    "id": "B3GnDzG_zIyl",
    "outputId": "de94acab-7cba-4887-e556-71924cc6ee99"
   },
   "outputs": [
    {
     "data": {
      "text/html": [
       "<div>\n",
       "<style scoped>\n",
       "    .dataframe tbody tr th:only-of-type {\n",
       "        vertical-align: middle;\n",
       "    }\n",
       "\n",
       "    .dataframe tbody tr th {\n",
       "        vertical-align: top;\n",
       "    }\n",
       "\n",
       "    .dataframe thead th {\n",
       "        text-align: right;\n",
       "    }\n",
       "</style>\n",
       "<table border=\"1\" class=\"dataframe\">\n",
       "  <thead>\n",
       "    <tr style=\"text-align: right;\">\n",
       "      <th></th>\n",
       "      <th>index</th>\n",
       "      <th>v_coordinate_x</th>\n",
       "      <th>v_coordinate_y</th>\n",
       "      <th>v_price</th>\n",
       "      <th>v_size</th>\n",
       "      <th>v_rooms</th>\n",
       "      <th>v_baths</th>\n",
       "      <th>v_price_red</th>\n",
       "    </tr>\n",
       "    <tr>\n",
       "      <th>KM_Group</th>\n",
       "      <th></th>\n",
       "      <th></th>\n",
       "      <th></th>\n",
       "      <th></th>\n",
       "      <th></th>\n",
       "      <th></th>\n",
       "      <th></th>\n",
       "      <th></th>\n",
       "    </tr>\n",
       "  </thead>\n",
       "  <tbody>\n",
       "    <tr>\n",
       "      <th>0.0</th>\n",
       "      <td>71.0</td>\n",
       "      <td>1.230581</td>\n",
       "      <td>-77.284192</td>\n",
       "      <td>455000000.0</td>\n",
       "      <td>128.649042</td>\n",
       "      <td>3.0</td>\n",
       "      <td>3.0</td>\n",
       "      <td>45.500000</td>\n",
       "    </tr>\n",
       "    <tr>\n",
       "      <th>1.0</th>\n",
       "      <td>43.0</td>\n",
       "      <td>1.211675</td>\n",
       "      <td>-77.267208</td>\n",
       "      <td>142056040.0</td>\n",
       "      <td>63.212297</td>\n",
       "      <td>3.0</td>\n",
       "      <td>2.0</td>\n",
       "      <td>14.205604</td>\n",
       "    </tr>\n",
       "    <tr>\n",
       "      <th>2.0</th>\n",
       "      <td>15.0</td>\n",
       "      <td>1.209131</td>\n",
       "      <td>-77.285787</td>\n",
       "      <td>210000000.0</td>\n",
       "      <td>78.000000</td>\n",
       "      <td>3.0</td>\n",
       "      <td>2.0</td>\n",
       "      <td>21.000000</td>\n",
       "    </tr>\n",
       "    <tr>\n",
       "      <th>3.0</th>\n",
       "      <td>52.0</td>\n",
       "      <td>1.225295</td>\n",
       "      <td>-77.286468</td>\n",
       "      <td>300000000.0</td>\n",
       "      <td>90.000000</td>\n",
       "      <td>3.0</td>\n",
       "      <td>2.0</td>\n",
       "      <td>30.000000</td>\n",
       "    </tr>\n",
       "    <tr>\n",
       "      <th>4.0</th>\n",
       "      <td>42.5</td>\n",
       "      <td>1.215666</td>\n",
       "      <td>-77.283851</td>\n",
       "      <td>580000000.0</td>\n",
       "      <td>145.009889</td>\n",
       "      <td>4.0</td>\n",
       "      <td>4.0</td>\n",
       "      <td>58.000000</td>\n",
       "    </tr>\n",
       "  </tbody>\n",
       "</table>\n",
       "</div>"
      ],
      "text/plain": [
       "          index  v_coordinate_x  v_coordinate_y      v_price      v_size  \\\n",
       "KM_Group                                                                   \n",
       "0.0        71.0        1.230581      -77.284192  455000000.0  128.649042   \n",
       "1.0        43.0        1.211675      -77.267208  142056040.0   63.212297   \n",
       "2.0        15.0        1.209131      -77.285787  210000000.0   78.000000   \n",
       "3.0        52.0        1.225295      -77.286468  300000000.0   90.000000   \n",
       "4.0        42.5        1.215666      -77.283851  580000000.0  145.009889   \n",
       "\n",
       "          v_rooms  v_baths  v_price_red  \n",
       "KM_Group                                 \n",
       "0.0           3.0      3.0    45.500000  \n",
       "1.0           3.0      2.0    14.205604  \n",
       "2.0           3.0      2.0    21.000000  \n",
       "3.0           3.0      2.0    30.000000  \n",
       "4.0           4.0      4.0    58.000000  "
      ]
     },
     "execution_count": 223,
     "metadata": {},
     "output_type": "execute_result"
    }
   ],
   "source": [
    "apartments_new.groupby(\"KM_Group\").median()"
   ]
  },
  {
   "cell_type": "code",
   "execution_count": null,
   "metadata": {
    "id": "zVLny-tJzIyl",
    "outputId": "c4722a0b-1851-4ddd-e497-5a029005ab76"
   },
   "outputs": [
    {
     "data": {
      "text/html": [
       "<div>\n",
       "<style scoped>\n",
       "    .dataframe tbody tr th:only-of-type {\n",
       "        vertical-align: middle;\n",
       "    }\n",
       "\n",
       "    .dataframe tbody tr th {\n",
       "        vertical-align: top;\n",
       "    }\n",
       "\n",
       "    .dataframe thead th {\n",
       "        text-align: right;\n",
       "    }\n",
       "</style>\n",
       "<table border=\"1\" class=\"dataframe\">\n",
       "  <thead>\n",
       "    <tr style=\"text-align: right;\">\n",
       "      <th></th>\n",
       "      <th>index</th>\n",
       "      <th>url</th>\n",
       "      <th>coordinates</th>\n",
       "      <th>v_coordinate_x</th>\n",
       "      <th>v_coordinate_y</th>\n",
       "      <th>type</th>\n",
       "      <th>v_type</th>\n",
       "      <th>price</th>\n",
       "      <th>v_price</th>\n",
       "      <th>size</th>\n",
       "      <th>v_size</th>\n",
       "      <th>v_rooms</th>\n",
       "      <th>v_baths</th>\n",
       "      <th>description</th>\n",
       "      <th>v_price_red</th>\n",
       "      <th>KM_Group</th>\n",
       "    </tr>\n",
       "  </thead>\n",
       "  <tbody>\n",
       "    <tr>\n",
       "      <th>36</th>\n",
       "      <td>36</td>\n",
       "      <td>https://www.properati.com.co/detalle/24sgm_ven...</td>\n",
       "      <td>['1.205884', '-77.285787']</td>\n",
       "      <td>1.205884</td>\n",
       "      <td>-77.285787</td>\n",
       "      <td>Apartamento en venta en Pasto</td>\n",
       "      <td>Apartamento</td>\n",
       "      <td>$ 320.000.000</td>\n",
       "      <td>320000000.0</td>\n",
       "      <td>105 m²</td>\n",
       "      <td>105.000000</td>\n",
       "      <td>3.0</td>\n",
       "      <td>NaN</td>\n",
       "      <td>&lt;div&gt;&lt;b&gt;SE VENDE AMPLIO APARTAMENTO SECTOR SAN...</td>\n",
       "      <td>32.0</td>\n",
       "      <td>NaN</td>\n",
       "    </tr>\n",
       "    <tr>\n",
       "      <th>57</th>\n",
       "      <td>57</td>\n",
       "      <td>https://www.properati.com.co/detalle/1i1lv_ven...</td>\n",
       "      <td>['1.222094', '-77.285514']</td>\n",
       "      <td>1.222094</td>\n",
       "      <td>-77.285514</td>\n",
       "      <td>Apartamento en venta en Pasto</td>\n",
       "      <td>Apartamento</td>\n",
       "      <td>$ 130.000.000</td>\n",
       "      <td>130000000.0</td>\n",
       "      <td>NaN</td>\n",
       "      <td>60.662860</td>\n",
       "      <td>NaN</td>\n",
       "      <td>1.0</td>\n",
       "      <td>&lt;div&gt;APARTAESTUDIO UBICADO EN EL MEJOR SECTOR ...</td>\n",
       "      <td>13.0</td>\n",
       "      <td>NaN</td>\n",
       "    </tr>\n",
       "    <tr>\n",
       "      <th>88</th>\n",
       "      <td>88</td>\n",
       "      <td>https://www.properati.com.co/detalle/1b5un_ven...</td>\n",
       "      <td>['1.21628', '-77.285986']</td>\n",
       "      <td>1.216280</td>\n",
       "      <td>-77.285986</td>\n",
       "      <td>Apartamento en venta en Pasto</td>\n",
       "      <td>Apartamento</td>\n",
       "      <td>$ 290.000.000</td>\n",
       "      <td>290000000.0</td>\n",
       "      <td>NaN</td>\n",
       "      <td>94.497352</td>\n",
       "      <td>NaN</td>\n",
       "      <td>3.0</td>\n",
       "      <td>&lt;div&gt;DE OPORTUNIDAD Se vende Hermoso apartamen...</td>\n",
       "      <td>29.0</td>\n",
       "      <td>NaN</td>\n",
       "    </tr>\n",
       "    <tr>\n",
       "      <th>91</th>\n",
       "      <td>91</td>\n",
       "      <td>https://www.properati.com.co/detalle/1gpr0_ven...</td>\n",
       "      <td>['1.201252', '-77.267522']</td>\n",
       "      <td>1.201252</td>\n",
       "      <td>-77.267522</td>\n",
       "      <td>Apartamento en venta en Pasto</td>\n",
       "      <td>Apartamento</td>\n",
       "      <td>$ 200.000.000</td>\n",
       "      <td>200000000.0</td>\n",
       "      <td>NaN</td>\n",
       "      <td>75.465450</td>\n",
       "      <td>NaN</td>\n",
       "      <td>2.0</td>\n",
       "      <td>&lt;div&gt;El Apartamento queda en Torres de Malaga ...</td>\n",
       "      <td>20.0</td>\n",
       "      <td>NaN</td>\n",
       "    </tr>\n",
       "    <tr>\n",
       "      <th>92</th>\n",
       "      <td>92</td>\n",
       "      <td>https://www.properati.com.co/detalle/1b5uo_ven...</td>\n",
       "      <td>['1.231463', '-77.284243']</td>\n",
       "      <td>1.231463</td>\n",
       "      <td>-77.284243</td>\n",
       "      <td>Apartamento en venta en Pasto</td>\n",
       "      <td>Apartamento</td>\n",
       "      <td>$ 145.000.000</td>\n",
       "      <td>145000000.0</td>\n",
       "      <td>NaN</td>\n",
       "      <td>63.834844</td>\n",
       "      <td>NaN</td>\n",
       "      <td>NaN</td>\n",
       "      <td>&lt;div&gt;Confortable apartaestudio en tercer piso ...</td>\n",
       "      <td>14.5</td>\n",
       "      <td>NaN</td>\n",
       "    </tr>\n",
       "    <tr>\n",
       "      <th>96</th>\n",
       "      <td>96</td>\n",
       "      <td>https://www.properati.com.co/detalle/1bpr1_ven...</td>\n",
       "      <td>['1.233678', '-77.28708']</td>\n",
       "      <td>1.233678</td>\n",
       "      <td>-77.287080</td>\n",
       "      <td>Apartamento en venta en Pasto</td>\n",
       "      <td>Apartamento</td>\n",
       "      <td>$ 160.000.000</td>\n",
       "      <td>160000000.0</td>\n",
       "      <td>NaN</td>\n",
       "      <td>67.006827</td>\n",
       "      <td>NaN</td>\n",
       "      <td>NaN</td>\n",
       "      <td>&lt;div&gt;Apartamento recien amoblado sector norte ...</td>\n",
       "      <td>16.0</td>\n",
       "      <td>NaN</td>\n",
       "    </tr>\n",
       "    <tr>\n",
       "      <th>97</th>\n",
       "      <td>97</td>\n",
       "      <td>https://www.properati.com.co/detalle/1b5uh_ven...</td>\n",
       "      <td>['1.233592', '-77.284355']</td>\n",
       "      <td>1.233592</td>\n",
       "      <td>-77.284355</td>\n",
       "      <td>Apartamento en venta en Pasto</td>\n",
       "      <td>Apartamento</td>\n",
       "      <td>$ 520.000.000</td>\n",
       "      <td>520000000.0</td>\n",
       "      <td>NaN</td>\n",
       "      <td>143.134434</td>\n",
       "      <td>NaN</td>\n",
       "      <td>NaN</td>\n",
       "      <td>&lt;div&gt;Se vende un espectacular apartamento en e...</td>\n",
       "      <td>52.0</td>\n",
       "      <td>NaN</td>\n",
       "    </tr>\n",
       "    <tr>\n",
       "      <th>101</th>\n",
       "      <td>102</td>\n",
       "      <td>https://www.properati.com.co/detalle/17e38_ven...</td>\n",
       "      <td>['1.225445', '-77.298017']</td>\n",
       "      <td>1.225445</td>\n",
       "      <td>-77.298017</td>\n",
       "      <td>Apartamento en venta en Pasto</td>\n",
       "      <td>Apartamento</td>\n",
       "      <td>$ 250.000.000</td>\n",
       "      <td>250000000.0</td>\n",
       "      <td>NaN</td>\n",
       "      <td>86.038729</td>\n",
       "      <td>NaN</td>\n",
       "      <td>2.0</td>\n",
       "      <td>&lt;div&gt;SE VENDE APARTAMENTOS PARA ESTRENAR EN ED...</td>\n",
       "      <td>25.0</td>\n",
       "      <td>NaN</td>\n",
       "    </tr>\n",
       "    <tr>\n",
       "      <th>103</th>\n",
       "      <td>107</td>\n",
       "      <td>https://www.properati.com.co/detalle/2b7q1_ven...</td>\n",
       "      <td>['1.205884', '-77.285787']</td>\n",
       "      <td>1.205884</td>\n",
       "      <td>-77.285787</td>\n",
       "      <td>Apartamento en venta en Pasto</td>\n",
       "      <td>Apartamento</td>\n",
       "      <td>$ 150.000.000</td>\n",
       "      <td>150000000.0</td>\n",
       "      <td>NaN</td>\n",
       "      <td>64.892171</td>\n",
       "      <td>2.0</td>\n",
       "      <td>NaN</td>\n",
       "      <td>&lt;div&gt;&lt;b&gt;SE VENDE APARTAMENTO SECTOR PARQUE BOL...</td>\n",
       "      <td>15.0</td>\n",
       "      <td>NaN</td>\n",
       "    </tr>\n",
       "  </tbody>\n",
       "</table>\n",
       "</div>"
      ],
      "text/plain": [
       "     index                                                url  \\\n",
       "36      36  https://www.properati.com.co/detalle/24sgm_ven...   \n",
       "57      57  https://www.properati.com.co/detalle/1i1lv_ven...   \n",
       "88      88  https://www.properati.com.co/detalle/1b5un_ven...   \n",
       "91      91  https://www.properati.com.co/detalle/1gpr0_ven...   \n",
       "92      92  https://www.properati.com.co/detalle/1b5uo_ven...   \n",
       "96      96  https://www.properati.com.co/detalle/1bpr1_ven...   \n",
       "97      97  https://www.properati.com.co/detalle/1b5uh_ven...   \n",
       "101    102  https://www.properati.com.co/detalle/17e38_ven...   \n",
       "103    107  https://www.properati.com.co/detalle/2b7q1_ven...   \n",
       "\n",
       "                    coordinates  v_coordinate_x  v_coordinate_y  \\\n",
       "36   ['1.205884', '-77.285787']        1.205884      -77.285787   \n",
       "57   ['1.222094', '-77.285514']        1.222094      -77.285514   \n",
       "88    ['1.21628', '-77.285986']        1.216280      -77.285986   \n",
       "91   ['1.201252', '-77.267522']        1.201252      -77.267522   \n",
       "92   ['1.231463', '-77.284243']        1.231463      -77.284243   \n",
       "96    ['1.233678', '-77.28708']        1.233678      -77.287080   \n",
       "97   ['1.233592', '-77.284355']        1.233592      -77.284355   \n",
       "101  ['1.225445', '-77.298017']        1.225445      -77.298017   \n",
       "103  ['1.205884', '-77.285787']        1.205884      -77.285787   \n",
       "\n",
       "                              type       v_type          price      v_price  \\\n",
       "36   Apartamento en venta en Pasto  Apartamento  $ 320.000.000  320000000.0   \n",
       "57   Apartamento en venta en Pasto  Apartamento  $ 130.000.000  130000000.0   \n",
       "88   Apartamento en venta en Pasto  Apartamento  $ 290.000.000  290000000.0   \n",
       "91   Apartamento en venta en Pasto  Apartamento  $ 200.000.000  200000000.0   \n",
       "92   Apartamento en venta en Pasto  Apartamento  $ 145.000.000  145000000.0   \n",
       "96   Apartamento en venta en Pasto  Apartamento  $ 160.000.000  160000000.0   \n",
       "97   Apartamento en venta en Pasto  Apartamento  $ 520.000.000  520000000.0   \n",
       "101  Apartamento en venta en Pasto  Apartamento  $ 250.000.000  250000000.0   \n",
       "103  Apartamento en venta en Pasto  Apartamento  $ 150.000.000  150000000.0   \n",
       "\n",
       "       size      v_size  v_rooms  v_baths  \\\n",
       "36   105 m²  105.000000      3.0      NaN   \n",
       "57      NaN   60.662860      NaN      1.0   \n",
       "88      NaN   94.497352      NaN      3.0   \n",
       "91      NaN   75.465450      NaN      2.0   \n",
       "92      NaN   63.834844      NaN      NaN   \n",
       "96      NaN   67.006827      NaN      NaN   \n",
       "97      NaN  143.134434      NaN      NaN   \n",
       "101     NaN   86.038729      NaN      2.0   \n",
       "103     NaN   64.892171      2.0      NaN   \n",
       "\n",
       "                                           description  v_price_red  KM_Group  \n",
       "36   <div><b>SE VENDE AMPLIO APARTAMENTO SECTOR SAN...         32.0       NaN  \n",
       "57   <div>APARTAESTUDIO UBICADO EN EL MEJOR SECTOR ...         13.0       NaN  \n",
       "88   <div>DE OPORTUNIDAD Se vende Hermoso apartamen...         29.0       NaN  \n",
       "91   <div>El Apartamento queda en Torres de Malaga ...         20.0       NaN  \n",
       "92   <div>Confortable apartaestudio en tercer piso ...         14.5       NaN  \n",
       "96   <div>Apartamento recien amoblado sector norte ...         16.0       NaN  \n",
       "97   <div>Se vende un espectacular apartamento en e...         52.0       NaN  \n",
       "101  <div>SE VENDE APARTAMENTOS PARA ESTRENAR EN ED...         25.0       NaN  \n",
       "103  <div><b>SE VENDE APARTAMENTO SECTOR PARQUE BOL...         15.0       NaN  "
      ]
     },
     "execution_count": 233,
     "metadata": {},
     "output_type": "execute_result"
    }
   ],
   "source": [
    "apartments_new[apartments_new['KM_Group'].isnull()]"
   ]
  },
  {
   "cell_type": "code",
   "execution_count": null,
   "metadata": {
    "id": "25NgHUaGzIyl",
    "outputId": "57618464-aeb4-4ffa-97dd-c3152c792871"
   },
   "outputs": [
    {
     "data": {
      "text/plain": [
       "3.0    31\n",
       "0.0    25\n",
       "2.0    17\n",
       "1.0    13\n",
       "4.0    10\n",
       "Name: KM_Group, dtype: int64"
      ]
     },
     "execution_count": 239,
     "metadata": {},
     "output_type": "execute_result"
    }
   ],
   "source": [
    "apartments_new['KM_Group'].value_counts()"
   ]
  },
  {
   "cell_type": "code",
   "execution_count": null,
   "metadata": {
    "id": "XQ8sJxftzIym"
   },
   "outputs": [],
   "source": [
    "# New File with the information to upload to Tableau\n",
    "apartments_new[['url','coordinates','v_coordinate_x', 'v_coordinate_y', 'v_price','v_size', 'v_rooms', 'v_baths','KM_Group']].to_csv('outputs/apartments_clust0.csv')"
   ]
  }
 ],
 "metadata": {
  "colab": {
   "name": "02b_analisis.ipynb",
   "provenance": []
  },
  "kernelspec": {
   "display_name": "Python 3",
   "language": "python",
   "name": "python3"
  },
  "language_info": {
   "codemirror_mode": {
    "name": "ipython",
    "version": 3
   },
   "file_extension": ".py",
   "mimetype": "text/x-python",
   "name": "python",
   "nbconvert_exporter": "python",
   "pygments_lexer": "ipython3",
   "version": "3.8.8"
  }
 },
 "nbformat": 4,
 "nbformat_minor": 1
}
