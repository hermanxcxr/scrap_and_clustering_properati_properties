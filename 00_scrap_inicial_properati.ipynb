{
 "cells": [
  {
   "cell_type": "code",
   "execution_count": 1,
   "metadata": {
    "colab": {
     "base_uri": "https://localhost:8080/"
    },
    "executionInfo": {
     "elapsed": 4037,
     "status": "ok",
     "timestamp": 1620363469521,
     "user": {
      "displayName": "Herman Castillo Rendón",
      "photoUrl": "",
      "userId": "07491792373160404105"
     },
     "user_tz": 300
    },
    "id": "KBN75xd3MCFe",
    "outputId": "c254df79-05de-40c1-eba2-60aa3dca7ce8"
   },
   "outputs": [],
   "source": [
    "#pip install selenium"
   ]
  },
  {
   "cell_type": "code",
   "execution_count": 5,
   "metadata": {
    "colab": {
     "base_uri": "https://localhost:8080/"
    },
    "executionInfo": {
     "elapsed": 28013,
     "status": "ok",
     "timestamp": 1620363954539,
     "user": {
      "displayName": "Herman Castillo Rendón",
      "photoUrl": "",
      "userId": "07491792373160404105"
     },
     "user_tz": 300
    },
    "id": "x0ccZo2NMG32",
    "outputId": "fc9d673a-813a-4224-8733-947fec15379a"
   },
   "outputs": [
    {
     "name": "stdout",
     "output_type": "stream",
     "text": [
      "Mounted at /content/drive\n"
     ]
    }
   ],
   "source": [
    "#from google.colab import drive\n",
    "#drive.mount(\"/content/drive\")"
   ]
  },
  {
   "cell_type": "code",
   "execution_count": 1,
   "metadata": {
    "executionInfo": {
     "elapsed": 774,
     "status": "ok",
     "timestamp": 1620363477112,
     "user": {
      "displayName": "Herman Castillo Rendón",
      "photoUrl": "",
      "userId": "07491792373160404105"
     },
     "user_tz": 300
    },
    "id": "VguA5ijpJCN2"
   },
   "outputs": [],
   "source": [
    "import requests\n",
    "from requests import get\n",
    "from bs4 import BeautifulSoup\n",
    "from selenium import webdriver"
   ]
  },
  {
   "cell_type": "code",
   "execution_count": 2,
   "metadata": {
    "id": "n0nPlGF4M_cd"
   },
   "outputs": [],
   "source": [
    "import time\n",
    "start_time = time.time()"
   ]
  },
  {
   "cell_type": "code",
   "execution_count": 4,
   "metadata": {
    "colab": {
     "base_uri": "https://localhost:8080/"
    },
    "executionInfo": {
     "elapsed": 507,
     "status": "ok",
     "timestamp": 1620364003527,
     "user": {
      "displayName": "Herman Castillo Rendón",
      "photoUrl": "",
      "userId": "07491792373160404105"
     },
     "user_tz": 300
    },
    "id": "57opnxTvOHba",
    "outputId": "05441107-6d5a-41ac-e064-7e73e8326e31"
   },
   "outputs": [],
   "source": [
    "#!ls"
   ]
  },
  {
   "cell_type": "code",
   "execution_count": 42,
   "metadata": {
    "colab": {
     "base_uri": "https://localhost:8080/",
     "height": 459
    },
    "executionInfo": {
     "elapsed": 949,
     "status": "error",
     "timestamp": 1620364076503,
     "user": {
      "displayName": "Herman Castillo Rendón",
      "photoUrl": "",
      "userId": "07491792373160404105"
     },
     "user_tz": 300
    },
    "id": "4JldgX7FNBTZ",
    "outputId": "99266c34-12a5-461f-d123-01405804702a"
   },
   "outputs": [],
   "source": [
    "options = webdriver.ChromeOptions()\n",
    "driver = webdriver.Chrome(executable_path=\"chromedriver.exe\", options=options)"
   ]
  },
  {
   "cell_type": "code",
   "execution_count": 43,
   "metadata": {
    "id": "203TxNPlOaG6"
   },
   "outputs": [],
   "source": [
    "driver.get(\"https://www.properati.com.co/\")"
   ]
  },
  {
   "cell_type": "code",
   "execution_count": 44,
   "metadata": {},
   "outputs": [],
   "source": [
    "property_type = driver.find_element_by_xpath('//select[@id=\"property-type\"]')"
   ]
  },
  {
   "cell_type": "code",
   "execution_count": 45,
   "metadata": {},
   "outputs": [],
   "source": [
    "property_type.click()"
   ]
  },
  {
   "cell_type": "code",
   "execution_count": 46,
   "metadata": {},
   "outputs": [],
   "source": [
    "property_type_option = driver.find_element_by_xpath('//select[@id=\"property-type\"]/option[2]')"
   ]
  },
  {
   "cell_type": "code",
   "execution_count": 47,
   "metadata": {},
   "outputs": [],
   "source": [
    "property_type_option.click()"
   ]
  },
  {
   "cell_type": "code",
   "execution_count": 48,
   "metadata": {},
   "outputs": [],
   "source": [
    "#text_case = driver.find_element_by_xpath('//div[@class=\"text-tags\"]')\n",
    "text_case = driver.find_element_by_xpath('//input[@id=\"search-places\"]')\n",
    "#driver.execute_script(\"arguments[0].click();\",text_case)"
   ]
  },
  {
   "cell_type": "code",
   "execution_count": 49,
   "metadata": {},
   "outputs": [],
   "source": [
    "text_case.clear()"
   ]
  },
  {
   "cell_type": "code",
   "execution_count": 50,
   "metadata": {},
   "outputs": [],
   "source": [
    "text_case.send_keys(\"Pasto\")"
   ]
  },
  {
   "cell_type": "code",
   "execution_count": 51,
   "metadata": {},
   "outputs": [],
   "source": [
    "#text_case.send_keys(\"Pas\")"
   ]
  },
  {
   "cell_type": "code",
   "execution_count": 52,
   "metadata": {},
   "outputs": [],
   "source": [
    "first_option = driver.find_element_by_xpath('//div[@class=\"text-suggestion text-selected\"]/span')"
   ]
  },
  {
   "cell_type": "code",
   "execution_count": 53,
   "metadata": {},
   "outputs": [],
   "source": [
    "first_option.click()"
   ]
  },
  {
   "cell_type": "code",
   "execution_count": null,
   "metadata": {},
   "outputs": [],
   "source": [
    "search_button = driver.find_element_by_xpath('//button[@class=\"btn btn-primary btn-large\"]')\n",
    "search_button.click()"
   ]
  },
  {
   "cell_type": "markdown",
   "metadata": {},
   "source": [
    "# navegación a través de las páginas"
   ]
  },
  {
   "cell_type": "code",
   "execution_count": 139,
   "metadata": {},
   "outputs": [],
   "source": [
    "property_links = []"
   ]
  },
  {
   "cell_type": "code",
   "execution_count": 145,
   "metadata": {},
   "outputs": [],
   "source": [
    "property_link_elements = driver.find_elements_by_xpath('//div[starts-with(@class,\"StyledCard\")]/a[@target=\"_blank\"]')\n",
    "\n",
    "for count,link in enumerate(property_link_elements):\n",
    "    if count%2 != 0: \n",
    "        link = link.get_attribute('href')\n",
    "        property_links.append(link)\n",
    "        #print(link)"
   ]
  },
  {
   "cell_type": "code",
   "execution_count": 146,
   "metadata": {},
   "outputs": [],
   "source": [
    "next_button = driver.find_element_by_xpath('//div[@class=\"pager\"]/a[contains(@class,\"pager-next\")]')\n",
    "next_button.click()"
   ]
  },
  {
   "cell_type": "code",
   "execution_count": 130,
   "metadata": {},
   "outputs": [],
   "source": [
    "tmp_ple = driver.find_elements_by_xpath('//div[starts-with(@class,\"StyledCard\")]/a[@target=\"_blank\"]')"
   ]
  },
  {
   "cell_type": "code",
   "execution_count": 98,
   "metadata": {},
   "outputs": [],
   "source": [
    "driver.refresh()"
   ]
  },
  {
   "cell_type": "code",
   "execution_count": 131,
   "metadata": {},
   "outputs": [],
   "source": [
    "property_links.append(tmp_prop_links)"
   ]
  },
  {
   "cell_type": "markdown",
   "metadata": {},
   "source": [
    "## creación de la lista que guarda los url a las páginas de cada cada"
   ]
  },
  {
   "cell_type": "code",
   "execution_count": 231,
   "metadata": {},
   "outputs": [
    {
     "name": "stdout",
     "output_type": "stream",
     "text": [
      "https://www.properati.com.co/detalle/29wn6_venta_casa_pasto_terraza_patio_deposito_primer-piso_cocina_comedor_inmobiliaria-santana\n",
      "https://www.properati.com.co/detalle/2a2oj_venta_apartamento_pasto_terraza_parqueadero_ascensor_balcon_sala-comedor_cocina_comedor_inmobiliaria-santana\n",
      "https://www.properati.com.co/detalle/29aaz_venta_casa_pasto_terraza_inmobiliaria-santana\n",
      "https://www.properati.com.co/detalle/28yix_venta_apartamento_pasto_patio_deposito_patio-de-ropas_sala-comedor_asesores-inmobiliarios_1gdpx\n",
      "https://www.properati.com.co/detalle/2b4lu_venta_apartamento_pasto_parqueadero_sala-comedor_salon-comunal_cocina_comedor_asesores-inmobiliarios_1gdpx\n",
      "https://www.properati.com.co/detalle/2avck_venta_flat_pasto_parqueadero_ascensor_deposito_balcon_bodegas_vigilancia_inmobiliaria-santana\n",
      "https://www.properati.com.co/detalle/2aipi_venta_casa_pasto_terraza_chimenea_patio_primer-piso_sala-comedor_cocina_comedor_d-c-colombia-s-a-s\n",
      "https://www.properati.com.co/detalle/2avd7_venta_casa_pasto_terraza_construccion_cocina_inmobiliaria-santana\n",
      "https://www.properati.com.co/detalle/2av8r_venta_apartamento_pasto_inmobiliaria-santana\n",
      "https://www.properati.com.co/detalle/28fzl_venta_apartamento_narino_parqueadero_ascensor_deposito_sala-comedor_mary_caw\n",
      "https://www.properati.com.co/detalle/2b152_venta_apartamento_pasto_ascensor_deposito_balcon_bodegas_cocina_comedor_inmobiliaria-santana\n",
      "https://www.properati.com.co/detalle/2b17j_venta_flat_pasto_terraza_parqueadero_jacuzzi_ascensor_penthouses_balcon_bodegas_cocina_comedor_vigilancia_inmobiliaria-santana\n",
      "https://www.properati.com.co/detalle/2b7og_venta_apartamento_pasto_parqueadero_patio_bodegas_sala-comedor_cocina_comedor_tu-casaviva-inmobiliaria\n",
      "https://www.properati.com.co/detalle/2bcgo_venta_casa_pasto_terraza_patio_cocina_inmobiliaria-santana\n",
      "https://www.properati.com.co/detalle/2beod_venta_casa_pasto_terraza_patio_patio-de-ropas_sala-comedor_cocina_comedor_asesores-inmobiliarios_1gdpx\n",
      "https://www.properati.com.co/detalle/29gfl_venta_apartamento_pasto_parqueadero_sala-comedor_asesores-inmobiliarios_1gdpx\n",
      "https://www.properati.com.co/detalle/28cev_venta_apartamento_pasto_terraza_sala-comedor_parque-infantil_salon-comunal_d-c-colombia-s-a-s\n",
      "https://www.properati.com.co/detalle/28cez_venta_apartamento_pasto_parqueadero_sala-comedor_d-c-colombia-s-a-s\n",
      "https://www.properati.com.co/detalle/23oba_venta_casa_pasto_patio_remodelados_sala-comedor_biera-sas\n",
      "https://www.properati.com.co/detalle/24elz_venta_apartamento_pasto_parqueadero_deposito_sala-comedor_biera-sas\n",
      "https://www.properati.com.co/detalle/28cew_venta_otro_pasto_terraza_bodegas_d-c-colombia-s-a-s\n",
      "https://www.properati.com.co/detalle/29gej_venta_apartamento_pasto_parqueadero_patio_patio-de-ropas_sala-comedor_asesores-inmobiliarios_1gdpx\n",
      "https://www.properati.com.co/detalle/163vm_venta_apartamento_pasto_patio_bodegas_casa-360\n",
      "https://www.properati.com.co/detalle/168qc_venta_apartamento_pasto_casa-360\n",
      "https://www.properati.com.co/detalle/z44w_venta_casa_pasto_inmobiliaria-huertas-lopez-asesores-de-compra-y-arriendo-inmuebles\n",
      "https://www.properati.com.co/detalle/2a2j5_venta_apartamento_pasto_parqueadero_deposito_primer-piso_sala-comedor_cocina_comedor_biera-sas\n",
      "https://www.properati.com.co/detalle/26qzv_venta_apartamento_pasto_parqueadero_sala-comedor_tu-casaviva-inmobiliaria\n",
      "https://www.properati.com.co/detalle/19lxn_venta_apartamento_pasto_terraza_inmobiliaria-huertas-lopez-asesores-de-compra-y-arriendo-inmuebles\n",
      "https://www.properati.com.co/detalle/2awiv_venta_lote_pasto_inmobiliaria-santana\n",
      "https://www.properati.com.co/detalle/1kn6p_venta_apartamento_narino_parqueadero_agreda-negocios-inmobiliarios\n",
      "https://www.properati.com.co/detalle/z2ty_venta_casa_pasto_inmobiliaria-huertas-lopez-asesores-de-compra-y-arriendo-inmuebles\n",
      "https://www.properati.com.co/detalle/z45n_venta_apartamento_pasto_inmobiliaria-huertas-lopez-asesores-de-compra-y-arriendo-inmuebles\n",
      "https://www.properati.com.co/detalle/1a529_venta_apartamento_pasto_inmobiliaria-huertas-lopez-asesores-de-compra-y-arriendo-inmuebles\n",
      "https://www.properati.com.co/detalle/1gwd2_venta_casa_pasto_jacuzzi_elite-bienes-raices\n",
      "https://www.properati.com.co/detalle/1kn6p_venta_apartamento_narino_parqueadero_agreda-negocios-inmobiliarios\n",
      "https://www.properati.com.co/detalle/17lbp_venta_apartamento_pasto_parqueadero_conjunto-cerrado_patio_inmobiliaria-huertas-lopez-asesores-de-compra-y-arriendo-inmuebles\n",
      "https://www.properati.com.co/detalle/z37n_venta_apartamento_pasto_inmobiliaria-huertas-lopez-asesores-de-compra-y-arriendo-inmuebles\n",
      "https://www.properati.com.co/detalle/z4br_venta_casa_pasto_inmobiliaria-huertas-lopez-asesores-de-compra-y-arriendo-inmuebles\n",
      "https://www.properati.com.co/detalle/16yiu_venta_apartamento_pasto_patio_innova-hogar-inmobiliaria-s-a-s\n",
      "https://www.properati.com.co/detalle/1ggsf_venta_apartamento_pasto_parqueadero_patio_patio-de-ropas_sala-comedor_innova-hogar-inmobiliaria-s-a-s\n",
      "https://www.properati.com.co/detalle/1bkzv_venta_casa_pasto_patio_jardin_patio-de-ropas_innova-hogar-inmobiliaria-s-a-s\n",
      "https://www.properati.com.co/detalle/24bro_venta_apartamento_pasto_sala-comedor_tu-casaviva-inmobiliaria\n",
      "https://www.properati.com.co/detalle/1gkgs_venta_finca_pasto_terraza_patio_casas-campestres_patio-de-ropas_sala-comedor_nelly\n",
      "https://www.properati.com.co/detalle/1bkr9_venta_casa_pasto_terraza_patio_bodegas_primer-piso_patio-de-ropas_innova-hogar-inmobiliaria-s-a-s\n",
      "https://www.properati.com.co/detalle/1bl00_arriendo_apartamento_pasto_parqueadero_patio_ascensor_patio-de-ropas_innova-hogar-inmobiliaria-s-a-s\n",
      "https://www.properati.com.co/detalle/1b5jj_venta_apartamento_pasto_piscina_conjunto-cerrado_jacuzzi_ascensor_gimnasio_sala-comedor_a2klic-com\n",
      "https://www.properati.com.co/detalle/1hp9a_venta_casa_pasto_terraza_primer-piso_innova-hogar-inmobiliaria-s-a-s\n",
      "https://www.properati.com.co/detalle/26qz7_venta_oficina-consultorio_pasto_parqueadero_tu-casaviva-inmobiliaria\n",
      "https://www.properati.com.co/detalle/2b30w_venta_lote_pasto_asesores-inmobiliarios_1gdpx\n",
      "https://www.properati.com.co/detalle/142pu_venta_otro_pasto_innova-hogar-inmobiliaria-s-a-s\n",
      "https://www.properati.com.co/detalle/14jg1_venta_apartamento_pasto_innova-hogar-inmobiliaria-s-a-s\n",
      "https://www.properati.com.co/detalle/18uwe_venta_apartamento_pasto_innova-hogar-inmobiliaria-s-a-s\n",
      "https://www.properati.com.co/detalle/1dx7o_venta_apartamento_pasto_inmobiliaria-huertas-lopez-asesores-de-compra-y-arriendo-inmuebles\n",
      "https://www.properati.com.co/detalle/24sgm_venta_apartamento_pasto_terraza_parqueadero_sala-comedor_tu-casaviva-inmobiliaria\n",
      "https://www.properati.com.co/detalle/162h1_venta_apartamento_pasto_balcon_innova-hogar-inmobiliaria-s-a-s\n",
      "https://www.properati.com.co/detalle/1kndz_venta_apartamento_narino_innova-hogar-inmobiliaria-s-a-s\n",
      "https://www.properati.com.co/detalle/1knfv_venta_apartamento_narino_parqueadero_innova-hogar-inmobiliaria-s-a-s\n",
      "https://www.properati.com.co/detalle/z3un_venta_casa_pasto_inmobiliaria-huertas-lopez-asesores-de-compra-y-arriendo-inmuebles\n",
      "https://www.properati.com.co/detalle/1knen_venta_apartamento_narino_parqueadero_innova-hogar-inmobiliaria-s-a-s\n",
      "https://www.properati.com.co/detalle/29tzp_venta_casa_pasto_terraza_parqueadero_bodegas_sala-comedor_cocina_comedor_tu-casaviva-inmobiliaria\n",
      "https://www.properati.com.co/detalle/29tzp_venta_casa_pasto_terraza_parqueadero_bodegas_sala-comedor_cocina_comedor_tu-casaviva-inmobiliaria\n",
      "https://www.properati.com.co/detalle/z1vl_venta_apartamento_pasto_innova-hogar-inmobiliaria-s-a-s\n",
      "https://www.properati.com.co/detalle/1goqc_venta_apartamento_pasto_tu-sitio-inmobiliaria-pasto\n",
      "https://www.properati.com.co/detalle/18z9w_venta_lote_pasto_a2klic-com\n",
      "https://www.properati.com.co/detalle/269bj_venta_casa_pasto_chimenea_deposito_jardin_biera-sas\n",
      "https://www.properati.com.co/detalle/26d63_venta_casa_pasto_patio_deposito_bodegas_biera-sas\n",
      "https://www.properati.com.co/detalle/25ndk_venta_casa_pasto_terraza_parqueadero_patio_deposito_sala-comedor_biera-sas\n",
      "https://www.properati.com.co/detalle/2awjb_venta_lote_pasto_inmobiliaria-santana\n",
      "https://www.properati.com.co/detalle/15rkc_venta_apartamento_pasto_parqueadero_inmobiliaria-huertas-lopez-asesores-de-compra-y-arriendo-inmuebles\n",
      "https://www.properati.com.co/detalle/1knf7_venta_apartamento_narino_balcon_innova-hogar-inmobiliaria-s-a-s\n",
      "https://www.properati.com.co/detalle/17fgb_venta_apartamento_pasto_innova-hogar-inmobiliaria-s-a-s\n",
      "https://www.properati.com.co/detalle/zw6p_venta_apartamento_pasto_inmobiliaria-huertas-lopez-asesores-de-compra-y-arriendo-inmuebles\n",
      "https://www.properati.com.co/detalle/1j06y_venta_apartamento_narino_parqueadero_innova-hogar-inmobiliaria-s-a-s\n",
      "https://www.properati.com.co/detalle/23mb2_venta_apartamento_pasto_terraza_parqueadero_deposito_sala-comedor_salon-comunal_biera-sas\n",
      "https://www.properati.com.co/detalle/22use_venta_apartamento_pasto_terraza_parqueadero_chimenea_jacuzzi_deposito_sala-comedor_biera-sas\n",
      "https://www.properati.com.co/detalle/22uin_venta_apartamento_pasto_parqueadero_jacuzzi_ascensor_sala-comedor_salon-comunal_biera-sas\n",
      "https://www.properati.com.co/detalle/24h5x_venta_apartamento_pasto_parqueadero_balcon_sala-comedor_salon-comunal_biera-sas\n",
      "https://www.properati.com.co/detalle/22kve_venta_apartamento_pasto_parqueadero_balcon_sala-comedor_biera-sas\n",
      "https://www.properati.com.co/detalle/12l72_venta_apartamento_pasto_innova-hogar-inmobiliaria-s-a-s\n",
      "https://www.properati.com.co/detalle/12blz_venta_apartamento_pasto_e-e-inmobiliaria\n",
      "https://www.properati.com.co/detalle/13nds_venta_apartamento_pasto_e-e-inmobiliaria\n",
      "https://www.properati.com.co/detalle/1etnl_venta_otro_pasto_conjunto-cerrado_patio_nelly\n",
      "https://www.properati.com.co/detalle/1b5ud_venta_apartamento_pasto_sala-comedor_a2klic-com\n",
      "https://www.properati.com.co/detalle/1b5ue_venta_casa_pasto_terraza_remodelados_sala-comedor_a2klic-com\n",
      "https://www.properati.com.co/detalle/1b5uj_venta_apartamento_pasto_parqueadero_chimenea_ascensor_bodegas_sala-comedor_a2klic-com\n",
      "https://www.properati.com.co/detalle/1c08b_venta_casa_pasto_conjunto-cerrado_sala-comedor_nelly\n",
      "https://www.properati.com.co/detalle/1aqp1_venta_apartamento_pasto_terraza_patio_patio-de-ropas_sala-comedor_a2klic-com\n",
      "https://www.properati.com.co/detalle/1b5jb_venta_apartamento_pasto_terraza_apartaestudios_sala-comedor_a2klic-com\n",
      "https://www.properati.com.co/detalle/1b5jk_venta_casa_pasto_patio_patio-de-ropas_sala-comedor_a2klic-com\n",
      "https://www.properati.com.co/detalle/1b5jq_venta_casa_pasto_terraza_a2klic-com\n"
     ]
    }
   ],
   "source": [
    "#property_links.get_attribute('outerHTML')\n",
    "#property_links.get_attribute('href')\n",
    "for count,link in enumerate(property_links):\n",
    "    print(link)\n",
    "    #if count%2 != 0: \n",
    "        #link = link.get_attribute('href')\n",
    "    #    print(link)"
   ]
  },
  {
   "cell_type": "code",
   "execution_count": 151,
   "metadata": {},
   "outputs": [
    {
     "data": {
      "text/plain": [
       "'https://www.properati.com.co/detalle/2a2oj_venta_apartamento_pasto_terraza_parqueadero_ascensor_balcon_sala-comedor_cocina_comedor_inmobiliaria-santana'"
      ]
     },
     "execution_count": 151,
     "metadata": {},
     "output_type": "execute_result"
    }
   ],
   "source": [
    "#property_link_elements[1].get_attribute('outerHTML')\n",
    "property_links[1]"
   ]
  },
  {
   "cell_type": "code",
   "execution_count": 152,
   "metadata": {},
   "outputs": [
    {
     "data": {
      "text/plain": [
       "<selenium.webdriver.remote.webelement.WebElement (session=\"915c677ce5fd693d9a505e92b349b0e1\", element=\"3ff58238-b9b5-41c5-a95d-bae48c3ba116\")>"
      ]
     },
     "execution_count": 152,
     "metadata": {},
     "output_type": "execute_result"
    }
   ],
   "source": [
    "#tmp_prop_links[0].get_attribute(\"href\")\n",
    "tmp_prop_links[0]"
   ]
  },
  {
   "cell_type": "markdown",
   "metadata": {},
   "source": [
    "# Examinando la página de cada propiedad"
   ]
  },
  {
   "cell_type": "code",
   "execution_count": 185,
   "metadata": {},
   "outputs": [],
   "source": [
    "driver.get(property_links[10])"
   ]
  },
  {
   "cell_type": "markdown",
   "metadata": {},
   "source": [
    "###  Coordenadas"
   ]
  },
  {
   "cell_type": "code",
   "execution_count": 190,
   "metadata": {},
   "outputs": [
    {
     "name": "stdout",
     "output_type": "stream",
     "text": [
      "https://maps.google.com/maps?ll=1.224591,-77.28304&z=16&t=m&hl=es-ES&gl=US&mapclient=apiv3\n"
     ]
    }
   ],
   "source": [
    "g_coord = driver.find_element_by_xpath(\"//div[@class='gm-style']/div/div/a\")\n",
    "maps_url = str(g_coord.get_attribute(\"href\"))\n",
    "print(g_coord.get_attribute(\"href\"))"
   ]
  },
  {
   "cell_type": "code",
   "execution_count": 187,
   "metadata": {},
   "outputs": [],
   "source": [
    "import re"
   ]
  },
  {
   "cell_type": "code",
   "execution_count": 199,
   "metadata": {},
   "outputs": [],
   "source": [
    "coordinates = re.findall('-?\\d?\\d.[0-9]{3,6}',maps_url)"
   ]
  },
  {
   "cell_type": "code",
   "execution_count": 198,
   "metadata": {},
   "outputs": [
    {
     "data": {
      "text/plain": [
       "['1.224591', '-77.28304']"
      ]
     },
     "execution_count": 198,
     "metadata": {},
     "output_type": "execute_result"
    }
   ],
   "source": [
    "coordinates"
   ]
  },
  {
   "cell_type": "code",
   "execution_count": 211,
   "metadata": {},
   "outputs": [
    {
     "data": {
      "text/plain": [
       "[1.224591, -77.28304]"
      ]
     },
     "execution_count": 211,
     "metadata": {},
     "output_type": "execute_result"
    }
   ],
   "source": [
    "coordinates = [float(coordinates[0]),float(coordinates[1])]\n",
    "coordinates"
   ]
  },
  {
   "cell_type": "markdown",
   "metadata": {},
   "source": [
    "### Datos de la propiedad"
   ]
  },
  {
   "cell_type": "code",
   "execution_count": 200,
   "metadata": {},
   "outputs": [
    {
     "name": "stdout",
     "output_type": "stream",
     "text": [
      "Apartamento en venta en Pasto\n"
     ]
    }
   ],
   "source": [
    "e_gen_name = driver.find_element_by_xpath('//h1[starts-with(@class,\"StyledTitle\")]')\n",
    "gen_name = e_gen_name.text\n",
    "print(gen_name)"
   ]
  },
  {
   "cell_type": "code",
   "execution_count": 221,
   "metadata": {},
   "outputs": [
    {
     "data": {
      "text/plain": [
       "'Apartamento'"
      ]
     },
     "execution_count": 221,
     "metadata": {},
     "output_type": "execute_result"
    }
   ],
   "source": [
    "p_type = re.search('[A-Z][a-z]+',gen_name).group(0)\n",
    "p_type"
   ]
  },
  {
   "cell_type": "code",
   "execution_count": 223,
   "metadata": {},
   "outputs": [
    {
     "name": "stdout",
     "output_type": "stream",
     "text": [
      "$ 315.000.000\n"
     ]
    }
   ],
   "source": [
    "e_gen_price = driver.find_element_by_xpath('//span[starts-with(@class,\"StyledPrice\")]')\n",
    "gen_price = e_gen_price.text\n",
    "print(gen_price)"
   ]
  },
  {
   "cell_type": "code",
   "execution_count": 224,
   "metadata": {},
   "outputs": [
    {
     "data": {
      "text/plain": [
       "315000000.0"
      ]
     },
     "execution_count": 224,
     "metadata": {},
     "output_type": "execute_result"
    }
   ],
   "source": [
    "p_price = float(gen_price.replace(\"$\",\"\").replace(\" \",\"\").replace(\".\",\"\"))\n",
    "p_price"
   ]
  },
  {
   "cell_type": "code",
   "execution_count": 202,
   "metadata": {},
   "outputs": [
    {
     "name": "stdout",
     "output_type": "stream",
     "text": [
      "89 m²\n"
     ]
    }
   ],
   "source": [
    "e_gen_size = driver.find_element_by_xpath('//div[starts-with(@class,\"StyledTypologyBlock\")]/div[starts-with(@class,\"StyledTypologyItem\")][3]/div[2]/span[1]')\n",
    "gen_size = e_gen_size.text\n",
    "print(gen_size)"
   ]
  },
  {
   "cell_type": "code",
   "execution_count": 230,
   "metadata": {},
   "outputs": [
    {
     "data": {
      "text/plain": [
       "89.0"
      ]
     },
     "execution_count": 230,
     "metadata": {},
     "output_type": "execute_result"
    }
   ],
   "source": [
    "p_size = float(re.search('\\d+',gen_size).group(0))\n",
    "p_size"
   ]
  },
  {
   "cell_type": "markdown",
   "metadata": {},
   "source": [
    "#### Click en botón \"ver más\""
   ]
  },
  {
   "cell_type": "code",
   "execution_count": 209,
   "metadata": {},
   "outputs": [],
   "source": [
    "see_more_button = driver.find_element_by_xpath('//div[starts-with(@class,\"StyledButtonViewMore\")]/button')\n",
    "see_more_button.click()"
   ]
  },
  {
   "cell_type": "code",
   "execution_count": 208,
   "metadata": {},
   "outputs": [],
   "source": [
    "e_gen_description = driver.find_element_by_xpath('//div[starts-with(@class,\"StyledCollapsible\")]/div[@class=\"child-wrapper\"]/div')"
   ]
  },
  {
   "cell_type": "code",
   "execution_count": 206,
   "metadata": {},
   "outputs": [
    {
     "data": {
      "text/plain": [
       "'<div><b>Vendo Apartamento en Palermo Pasto</b><br><br>Acogedor apartamento ubicado en el sector de mayor valorizacion de la ciudad, cuenta con 3 amplias alcobas con closet, 2 baños, con vista a la calle, 2 balcones, piso en madera flotante, cocina integral, zona de lavanderia con buena ventilacion, el apartamento goza de excelente iluminacion, garaje cubierto con puerta electrica, bodega, ascensor, sector residencial muy tranquilo, llamenos para atenderlo.<br><br><br> Características adicionales: <br> - Comedor diario<br>- Agua corriente<br>- Habitación principal<br>- Sala<br>- Depósito<br> <br><br> Ref#739245.</div>'"
      ]
     },
     "execution_count": 206,
     "metadata": {},
     "output_type": "execute_result"
    }
   ],
   "source": [
    "e_gen_description.get_attribute(\"outerHTML\")"
   ]
  },
  {
   "cell_type": "code",
   "execution_count": null,
   "metadata": {},
   "outputs": [],
   "source": []
  }
 ],
 "metadata": {
  "colab": {
   "authorship_tag": "ABX9TyPmzKZbWHmay9CDuKNYytNx",
   "name": "00_scrap_inicial_properati.ipynb",
   "provenance": []
  },
  "kernelspec": {
   "display_name": "venv_ws",
   "language": "python",
   "name": "venv_ws"
  },
  "language_info": {
   "codemirror_mode": {
    "name": "ipython",
    "version": 3
   },
   "file_extension": ".py",
   "mimetype": "text/x-python",
   "name": "python",
   "nbconvert_exporter": "python",
   "pygments_lexer": "ipython3",
   "version": "3.8.3"
  }
 },
 "nbformat": 4,
 "nbformat_minor": 1
}